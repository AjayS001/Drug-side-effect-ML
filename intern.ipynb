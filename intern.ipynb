{
 "cells": [
  {
   "cell_type": "code",
   "execution_count": 1,
   "metadata": {},
   "outputs": [],
   "source": [
    "import numpy as np\n",
    "import pandas as pd\n",
    "import matplotlib.pyplot as plt\n",
    "import seaborn as sns"
   ]
  },
  {
   "cell_type": "code",
   "execution_count": 2,
   "metadata": {},
   "outputs": [],
   "source": [
    "data=pd.read_csv(r'C:\\Users\\ASUS\\Desktop\\AJAY\\Internship\\drug_effects.csv')"
   ]
  },
  {
   "cell_type": "code",
   "execution_count": 3,
   "metadata": {},
   "outputs": [],
   "source": [
    "data1 = pd.concat([data]*130, ignore_index=True)"
   ]
  },
  {
   "cell_type": "code",
   "execution_count": 4,
   "metadata": {},
   "outputs": [
    {
     "data": {
      "text/plain": [
       "(403910, 6)"
      ]
     },
     "execution_count": 4,
     "metadata": {},
     "output_type": "execute_result"
    }
   ],
   "source": [
    "data1.shape"
   ]
  },
  {
   "cell_type": "code",
   "execution_count": 5,
   "metadata": {},
   "outputs": [],
   "source": [
    "data1=data1.iloc[0:400000,]"
   ]
  },
  {
   "cell_type": "code",
   "execution_count": 6,
   "metadata": {},
   "outputs": [
    {
     "data": {
      "text/plain": [
       "(400000, 6)"
      ]
     },
     "execution_count": 6,
     "metadata": {},
     "output_type": "execute_result"
    }
   ],
   "source": [
    "data1.shape"
   ]
  },
  {
   "cell_type": "code",
   "execution_count": 7,
   "metadata": {},
   "outputs": [
    {
     "data": {
      "text/html": [
       "<div>\n",
       "<style scoped>\n",
       "    .dataframe tbody tr th:only-of-type {\n",
       "        vertical-align: middle;\n",
       "    }\n",
       "\n",
       "    .dataframe tbody tr th {\n",
       "        vertical-align: top;\n",
       "    }\n",
       "\n",
       "    .dataframe thead th {\n",
       "        text-align: right;\n",
       "    }\n",
       "</style>\n",
       "<table border=\"1\" class=\"dataframe\">\n",
       "  <thead>\n",
       "    <tr style=\"text-align: right;\">\n",
       "      <th></th>\n",
       "      <th>Unnamed: 0</th>\n",
       "      <th>urlDrugName</th>\n",
       "      <th>rating</th>\n",
       "      <th>effectiveness</th>\n",
       "      <th>condition</th>\n",
       "      <th>sideEffects</th>\n",
       "    </tr>\n",
       "  </thead>\n",
       "  <tbody>\n",
       "    <tr>\n",
       "      <th>0</th>\n",
       "      <td>0</td>\n",
       "      <td>enalapril</td>\n",
       "      <td>4</td>\n",
       "      <td>Highly Effective</td>\n",
       "      <td>management of congestive heart failure</td>\n",
       "      <td>Mild Side Effects</td>\n",
       "    </tr>\n",
       "    <tr>\n",
       "      <th>1</th>\n",
       "      <td>1</td>\n",
       "      <td>ortho-tri-cyclen</td>\n",
       "      <td>1</td>\n",
       "      <td>Highly Effective</td>\n",
       "      <td>birth prevention</td>\n",
       "      <td>Severe Side Effects</td>\n",
       "    </tr>\n",
       "    <tr>\n",
       "      <th>2</th>\n",
       "      <td>2</td>\n",
       "      <td>ponstel</td>\n",
       "      <td>10</td>\n",
       "      <td>Highly Effective</td>\n",
       "      <td>menstrual cramps</td>\n",
       "      <td>No Side Effects</td>\n",
       "    </tr>\n",
       "    <tr>\n",
       "      <th>3</th>\n",
       "      <td>3</td>\n",
       "      <td>prilosec</td>\n",
       "      <td>3</td>\n",
       "      <td>Marginally Effective</td>\n",
       "      <td>acid reflux</td>\n",
       "      <td>Mild Side Effects</td>\n",
       "    </tr>\n",
       "    <tr>\n",
       "      <th>4</th>\n",
       "      <td>4</td>\n",
       "      <td>lyrica</td>\n",
       "      <td>2</td>\n",
       "      <td>Marginally Effective</td>\n",
       "      <td>fibromyalgia</td>\n",
       "      <td>Severe Side Effects</td>\n",
       "    </tr>\n",
       "  </tbody>\n",
       "</table>\n",
       "</div>"
      ],
      "text/plain": [
       "   Unnamed: 0       urlDrugName  rating         effectiveness  \\\n",
       "0           0         enalapril       4      Highly Effective   \n",
       "1           1  ortho-tri-cyclen       1      Highly Effective   \n",
       "2           2           ponstel      10      Highly Effective   \n",
       "3           3          prilosec       3  Marginally Effective   \n",
       "4           4            lyrica       2  Marginally Effective   \n",
       "\n",
       "                                condition          sideEffects  \n",
       "0  management of congestive heart failure    Mild Side Effects  \n",
       "1                        birth prevention  Severe Side Effects  \n",
       "2                        menstrual cramps      No Side Effects  \n",
       "3                             acid reflux    Mild Side Effects  \n",
       "4                            fibromyalgia  Severe Side Effects  "
      ]
     },
     "execution_count": 7,
     "metadata": {},
     "output_type": "execute_result"
    }
   ],
   "source": [
    "data1.head()"
   ]
  },
  {
   "cell_type": "code",
   "execution_count": 8,
   "metadata": {},
   "outputs": [],
   "source": [
    "from faker import Faker"
   ]
  },
  {
   "cell_type": "code",
   "execution_count": 9,
   "metadata": {},
   "outputs": [],
   "source": [
    "fake_data=Faker()"
   ]
  },
  {
   "cell_type": "code",
   "execution_count": 10,
   "metadata": {},
   "outputs": [],
   "source": [
    "from faker.providers.person.en import Provider"
   ]
  },
  {
   "cell_type": "code",
   "execution_count": 11,
   "metadata": {},
   "outputs": [],
   "source": [
    "def random_genders(size, p=None):\n",
    "    \"\"\"Generate n-length ndarray of genders.\"\"\"\n",
    "    if not p:\n",
    "        # default probabilities\n",
    "        p = (0.54, 0.45, 0.01)\n",
    "    gender = (\"M\", \"F\", \"O\")\n",
    "    return np.random.choice(gender, size=400000, p=p)"
   ]
  },
  {
   "cell_type": "code",
   "execution_count": 12,
   "metadata": {},
   "outputs": [],
   "source": [
    "gender = random_genders(size=400000)"
   ]
  },
  {
   "cell_type": "code",
   "execution_count": 13,
   "metadata": {},
   "outputs": [],
   "source": [
    "\n",
    "def create_first_names(n):\n",
    "    first_name = []\n",
    "   \n",
    "    for _ in range(0, n):\n",
    "        first_name.append(fake_data.first_name())\n",
    "    return first_name"
   ]
  },
  {
   "cell_type": "code",
   "execution_count": 14,
   "metadata": {},
   "outputs": [],
   "source": [
    "first_name=create_first_names(400000)"
   ]
  },
  {
   "cell_type": "code",
   "execution_count": 15,
   "metadata": {},
   "outputs": [],
   "source": [
    "def create_last_names(n):\n",
    "    last_name = []\n",
    "    for _ in range(0, n):\n",
    "        last_name.append(fake_data.last_name())\n",
    "    return last_name"
   ]
  },
  {
   "cell_type": "code",
   "execution_count": 16,
   "metadata": {},
   "outputs": [],
   "source": [
    "last_name=create_last_names(400000)"
   ]
  },
  {
   "cell_type": "code",
   "execution_count": 17,
   "metadata": {},
   "outputs": [],
   "source": [
    "age = np.random.randint(10, 99, size = 400000, dtype = 'int')"
   ]
  },
  {
   "cell_type": "code",
   "execution_count": 18,
   "metadata": {},
   "outputs": [],
   "source": [
    "def create_race(n):\n",
    "    race = []\n",
    "    for _ in range(0, n):\n",
    "        race.append(fake_data.random_element(elements = (\"White\", \"Australoid\", \"Black\", \"Asian\")))\n",
    "    return race"
   ]
  },
  {
   "cell_type": "code",
   "execution_count": 19,
   "metadata": {},
   "outputs": [],
   "source": [
    "races = create_race(400000)"
   ]
  },
  {
   "cell_type": "code",
   "execution_count": 20,
   "metadata": {},
   "outputs": [],
   "source": [
    "patient_ID = np.random.randint(100000, 999999, size = 400000, dtype = 'int')"
   ]
  },
  {
   "cell_type": "code",
   "execution_count": 21,
   "metadata": {},
   "outputs": [],
   "source": [
    "data3 = pd.DataFrame(list(zip(patient_ID, first_name, last_name, gender, age, races)),\n",
    "                   columns = ['Patient_ID', 'First_Name', 'Last_Name', 'Gender', 'Age',\n",
    "                              'Race'])"
   ]
  },
  {
   "cell_type": "code",
   "execution_count": 22,
   "metadata": {},
   "outputs": [],
   "source": [
    "df=pd.concat([data1,data3],axis=1)"
   ]
  },
  {
   "cell_type": "code",
   "execution_count": 23,
   "metadata": {},
   "outputs": [
    {
     "data": {
      "text/html": [
       "<div>\n",
       "<style scoped>\n",
       "    .dataframe tbody tr th:only-of-type {\n",
       "        vertical-align: middle;\n",
       "    }\n",
       "\n",
       "    .dataframe tbody tr th {\n",
       "        vertical-align: top;\n",
       "    }\n",
       "\n",
       "    .dataframe thead th {\n",
       "        text-align: right;\n",
       "    }\n",
       "</style>\n",
       "<table border=\"1\" class=\"dataframe\">\n",
       "  <thead>\n",
       "    <tr style=\"text-align: right;\">\n",
       "      <th></th>\n",
       "      <th>Unnamed: 0</th>\n",
       "      <th>urlDrugName</th>\n",
       "      <th>rating</th>\n",
       "      <th>effectiveness</th>\n",
       "      <th>condition</th>\n",
       "      <th>sideEffects</th>\n",
       "      <th>Patient_ID</th>\n",
       "      <th>First_Name</th>\n",
       "      <th>Last_Name</th>\n",
       "      <th>Gender</th>\n",
       "      <th>Age</th>\n",
       "      <th>Race</th>\n",
       "    </tr>\n",
       "  </thead>\n",
       "  <tbody>\n",
       "    <tr>\n",
       "      <th>0</th>\n",
       "      <td>0</td>\n",
       "      <td>enalapril</td>\n",
       "      <td>4</td>\n",
       "      <td>Highly Effective</td>\n",
       "      <td>management of congestive heart failure</td>\n",
       "      <td>Mild Side Effects</td>\n",
       "      <td>957713</td>\n",
       "      <td>Patricia</td>\n",
       "      <td>Moore</td>\n",
       "      <td>F</td>\n",
       "      <td>61</td>\n",
       "      <td>Australoid</td>\n",
       "    </tr>\n",
       "    <tr>\n",
       "      <th>1</th>\n",
       "      <td>1</td>\n",
       "      <td>ortho-tri-cyclen</td>\n",
       "      <td>1</td>\n",
       "      <td>Highly Effective</td>\n",
       "      <td>birth prevention</td>\n",
       "      <td>Severe Side Effects</td>\n",
       "      <td>414147</td>\n",
       "      <td>Annette</td>\n",
       "      <td>Garcia</td>\n",
       "      <td>M</td>\n",
       "      <td>77</td>\n",
       "      <td>Black</td>\n",
       "    </tr>\n",
       "    <tr>\n",
       "      <th>2</th>\n",
       "      <td>2</td>\n",
       "      <td>ponstel</td>\n",
       "      <td>10</td>\n",
       "      <td>Highly Effective</td>\n",
       "      <td>menstrual cramps</td>\n",
       "      <td>No Side Effects</td>\n",
       "      <td>108594</td>\n",
       "      <td>Wendy</td>\n",
       "      <td>Paul</td>\n",
       "      <td>M</td>\n",
       "      <td>22</td>\n",
       "      <td>White</td>\n",
       "    </tr>\n",
       "    <tr>\n",
       "      <th>3</th>\n",
       "      <td>3</td>\n",
       "      <td>prilosec</td>\n",
       "      <td>3</td>\n",
       "      <td>Marginally Effective</td>\n",
       "      <td>acid reflux</td>\n",
       "      <td>Mild Side Effects</td>\n",
       "      <td>550643</td>\n",
       "      <td>Laura</td>\n",
       "      <td>Hale</td>\n",
       "      <td>F</td>\n",
       "      <td>22</td>\n",
       "      <td>White</td>\n",
       "    </tr>\n",
       "    <tr>\n",
       "      <th>4</th>\n",
       "      <td>4</td>\n",
       "      <td>lyrica</td>\n",
       "      <td>2</td>\n",
       "      <td>Marginally Effective</td>\n",
       "      <td>fibromyalgia</td>\n",
       "      <td>Severe Side Effects</td>\n",
       "      <td>183969</td>\n",
       "      <td>Alexander</td>\n",
       "      <td>Conley</td>\n",
       "      <td>M</td>\n",
       "      <td>73</td>\n",
       "      <td>Australoid</td>\n",
       "    </tr>\n",
       "    <tr>\n",
       "      <th>...</th>\n",
       "      <td>...</td>\n",
       "      <td>...</td>\n",
       "      <td>...</td>\n",
       "      <td>...</td>\n",
       "      <td>...</td>\n",
       "      <td>...</td>\n",
       "      <td>...</td>\n",
       "      <td>...</td>\n",
       "      <td>...</td>\n",
       "      <td>...</td>\n",
       "      <td>...</td>\n",
       "      <td>...</td>\n",
       "    </tr>\n",
       "    <tr>\n",
       "      <th>399995</th>\n",
       "      <td>2299</td>\n",
       "      <td>oxycontin</td>\n",
       "      <td>8</td>\n",
       "      <td>Highly Effective</td>\n",
       "      <td>chronic nerve pain from back surgery</td>\n",
       "      <td>Moderate Side Effects</td>\n",
       "      <td>467689</td>\n",
       "      <td>Jonathan</td>\n",
       "      <td>Green</td>\n",
       "      <td>F</td>\n",
       "      <td>96</td>\n",
       "      <td>Australoid</td>\n",
       "    </tr>\n",
       "    <tr>\n",
       "      <th>399996</th>\n",
       "      <td>2300</td>\n",
       "      <td>singulair</td>\n",
       "      <td>3</td>\n",
       "      <td>Marginally Effective</td>\n",
       "      <td>asthma</td>\n",
       "      <td>No Side Effects</td>\n",
       "      <td>571790</td>\n",
       "      <td>Michael</td>\n",
       "      <td>Fischer</td>\n",
       "      <td>F</td>\n",
       "      <td>92</td>\n",
       "      <td>Australoid</td>\n",
       "    </tr>\n",
       "    <tr>\n",
       "      <th>399997</th>\n",
       "      <td>2301</td>\n",
       "      <td>lumigan</td>\n",
       "      <td>8</td>\n",
       "      <td>Considerably Effective</td>\n",
       "      <td>sparse thin eyelashes</td>\n",
       "      <td>No Side Effects</td>\n",
       "      <td>469492</td>\n",
       "      <td>Ashley</td>\n",
       "      <td>Greene</td>\n",
       "      <td>O</td>\n",
       "      <td>10</td>\n",
       "      <td>Asian</td>\n",
       "    </tr>\n",
       "    <tr>\n",
       "      <th>399998</th>\n",
       "      <td>2302</td>\n",
       "      <td>temovate</td>\n",
       "      <td>7</td>\n",
       "      <td>Moderately Effective</td>\n",
       "      <td>dyshidrosis</td>\n",
       "      <td>No Side Effects</td>\n",
       "      <td>242451</td>\n",
       "      <td>Melissa</td>\n",
       "      <td>Mckinney</td>\n",
       "      <td>F</td>\n",
       "      <td>20</td>\n",
       "      <td>Asian</td>\n",
       "    </tr>\n",
       "    <tr>\n",
       "      <th>399999</th>\n",
       "      <td>2303</td>\n",
       "      <td>avage</td>\n",
       "      <td>8</td>\n",
       "      <td>Highly Effective</td>\n",
       "      <td>anti aging</td>\n",
       "      <td>Moderate Side Effects</td>\n",
       "      <td>237816</td>\n",
       "      <td>Julie</td>\n",
       "      <td>Wilson</td>\n",
       "      <td>M</td>\n",
       "      <td>84</td>\n",
       "      <td>White</td>\n",
       "    </tr>\n",
       "  </tbody>\n",
       "</table>\n",
       "<p>400000 rows × 12 columns</p>\n",
       "</div>"
      ],
      "text/plain": [
       "        Unnamed: 0       urlDrugName  rating           effectiveness  \\\n",
       "0                0         enalapril       4        Highly Effective   \n",
       "1                1  ortho-tri-cyclen       1        Highly Effective   \n",
       "2                2           ponstel      10        Highly Effective   \n",
       "3                3          prilosec       3    Marginally Effective   \n",
       "4                4            lyrica       2    Marginally Effective   \n",
       "...            ...               ...     ...                     ...   \n",
       "399995        2299         oxycontin       8        Highly Effective   \n",
       "399996        2300         singulair       3    Marginally Effective   \n",
       "399997        2301           lumigan       8  Considerably Effective   \n",
       "399998        2302          temovate       7    Moderately Effective   \n",
       "399999        2303             avage       8        Highly Effective   \n",
       "\n",
       "                                     condition            sideEffects  \\\n",
       "0       management of congestive heart failure      Mild Side Effects   \n",
       "1                             birth prevention    Severe Side Effects   \n",
       "2                             menstrual cramps        No Side Effects   \n",
       "3                                  acid reflux      Mild Side Effects   \n",
       "4                                 fibromyalgia    Severe Side Effects   \n",
       "...                                        ...                    ...   \n",
       "399995    chronic nerve pain from back surgery  Moderate Side Effects   \n",
       "399996                                  asthma        No Side Effects   \n",
       "399997                   sparse thin eyelashes        No Side Effects   \n",
       "399998                             dyshidrosis        No Side Effects   \n",
       "399999                              anti aging  Moderate Side Effects   \n",
       "\n",
       "        Patient_ID First_Name Last_Name Gender  Age        Race  \n",
       "0           957713   Patricia     Moore      F   61  Australoid  \n",
       "1           414147    Annette    Garcia      M   77       Black  \n",
       "2           108594      Wendy      Paul      M   22       White  \n",
       "3           550643      Laura      Hale      F   22       White  \n",
       "4           183969  Alexander    Conley      M   73  Australoid  \n",
       "...            ...        ...       ...    ...  ...         ...  \n",
       "399995      467689   Jonathan     Green      F   96  Australoid  \n",
       "399996      571790    Michael   Fischer      F   92  Australoid  \n",
       "399997      469492     Ashley    Greene      O   10       Asian  \n",
       "399998      242451    Melissa  Mckinney      F   20       Asian  \n",
       "399999      237816      Julie    Wilson      M   84       White  \n",
       "\n",
       "[400000 rows x 12 columns]"
      ]
     },
     "execution_count": 23,
     "metadata": {},
     "output_type": "execute_result"
    }
   ],
   "source": [
    "df"
   ]
  },
  {
   "cell_type": "code",
   "execution_count": 24,
   "metadata": {},
   "outputs": [
    {
     "data": {
      "text/plain": [
       "(400000, 12)"
      ]
     },
     "execution_count": 24,
     "metadata": {},
     "output_type": "execute_result"
    }
   ],
   "source": [
    "df.shape\n"
   ]
  },
  {
   "cell_type": "code",
   "execution_count": 25,
   "metadata": {},
   "outputs": [
    {
     "name": "stdout",
     "output_type": "stream",
     "text": [
      "<class 'pandas.core.frame.DataFrame'>\n",
      "RangeIndex: 400000 entries, 0 to 399999\n",
      "Data columns (total 12 columns):\n",
      " #   Column         Non-Null Count   Dtype \n",
      "---  ------         --------------   ----- \n",
      " 0   Unnamed: 0     400000 non-null  int64 \n",
      " 1   urlDrugName    400000 non-null  object\n",
      " 2   rating         400000 non-null  int64 \n",
      " 3   effectiveness  400000 non-null  object\n",
      " 4   condition      399872 non-null  object\n",
      " 5   sideEffects    400000 non-null  object\n",
      " 6   Patient_ID     400000 non-null  int64 \n",
      " 7   First_Name     400000 non-null  object\n",
      " 8   Last_Name      400000 non-null  object\n",
      " 9   Gender         400000 non-null  object\n",
      " 10  Age            400000 non-null  int64 \n",
      " 11  Race           400000 non-null  object\n",
      "dtypes: int64(4), object(8)\n",
      "memory usage: 36.6+ MB\n"
     ]
    }
   ],
   "source": [
    "df.info()"
   ]
  },
  {
   "cell_type": "code",
   "execution_count": 26,
   "metadata": {},
   "outputs": [
    {
     "data": {
      "text/plain": [
       "Unnamed: 0         0\n",
       "urlDrugName        0\n",
       "rating             0\n",
       "effectiveness      0\n",
       "condition        128\n",
       "sideEffects        0\n",
       "Patient_ID         0\n",
       "First_Name         0\n",
       "Last_Name          0\n",
       "Gender             0\n",
       "Age                0\n",
       "Race               0\n",
       "dtype: int64"
      ]
     },
     "execution_count": 26,
     "metadata": {},
     "output_type": "execute_result"
    }
   ],
   "source": [
    "df.isna().sum()"
   ]
  },
  {
   "cell_type": "code",
   "execution_count": 27,
   "metadata": {},
   "outputs": [],
   "source": [
    "df=df.dropna()"
   ]
  },
  {
   "cell_type": "code",
   "execution_count": 28,
   "metadata": {},
   "outputs": [
    {
     "data": {
      "text/plain": [
       "(399872, 12)"
      ]
     },
     "execution_count": 28,
     "metadata": {},
     "output_type": "execute_result"
    }
   ],
   "source": [
    "df.shape"
   ]
  },
  {
   "cell_type": "code",
   "execution_count": 29,
   "metadata": {},
   "outputs": [],
   "source": [
    "df=df.drop(['Unnamed: 0'],axis=1)"
   ]
  },
  {
   "cell_type": "code",
   "execution_count": 30,
   "metadata": {},
   "outputs": [
    {
     "data": {
      "text/plain": [
       "lexapro                8114\n",
       "prozac                 5918\n",
       "zoloft                 5795\n",
       "retin-a                5794\n",
       "propecia               4895\n",
       "                       ... \n",
       "estring                 128\n",
       "medroxyprogesterone     128\n",
       "aralen                  128\n",
       "glucophage-xr           128\n",
       "nasarel                 128\n",
       "Name: urlDrugName, Length: 502, dtype: int64"
      ]
     },
     "execution_count": 30,
     "metadata": {},
     "output_type": "execute_result"
    }
   ],
   "source": [
    "df['urlDrugName'].value_counts()"
   ]
  },
  {
   "cell_type": "code",
   "execution_count": 31,
   "metadata": {},
   "outputs": [
    {
     "data": {
      "text/plain": [
       "Mild Side Effects                131207\n",
       "No Side Effects                  119583\n",
       "Moderate Side Effects             79053\n",
       "Severe Side Effects               47504\n",
       "Extremely Severe Side Effects     22525\n",
       "Name: sideEffects, dtype: int64"
      ]
     },
     "execution_count": 31,
     "metadata": {},
     "output_type": "execute_result"
    }
   ],
   "source": [
    "df['sideEffects'].value_counts()"
   ]
  },
  {
   "cell_type": "code",
   "execution_count": 32,
   "metadata": {},
   "outputs": [
    {
     "data": {
      "text/plain": [
       "Black         100229\n",
       "Australoid    100066\n",
       "Asian         100063\n",
       "White          99514\n",
       "Name: Race, dtype: int64"
      ]
     },
     "execution_count": 32,
     "metadata": {},
     "output_type": "execute_result"
    }
   ],
   "source": [
    "df['Race'].value_counts()"
   ]
  },
  {
   "cell_type": "code",
   "execution_count": 33,
   "metadata": {},
   "outputs": [
    {
     "data": {
      "text/html": [
       "<div>\n",
       "<style scoped>\n",
       "    .dataframe tbody tr th:only-of-type {\n",
       "        vertical-align: middle;\n",
       "    }\n",
       "\n",
       "    .dataframe tbody tr th {\n",
       "        vertical-align: top;\n",
       "    }\n",
       "\n",
       "    .dataframe thead th {\n",
       "        text-align: right;\n",
       "    }\n",
       "</style>\n",
       "<table border=\"1\" class=\"dataframe\">\n",
       "  <thead>\n",
       "    <tr style=\"text-align: right;\">\n",
       "      <th></th>\n",
       "      <th>rating</th>\n",
       "      <th>Patient_ID</th>\n",
       "      <th>Age</th>\n",
       "    </tr>\n",
       "  </thead>\n",
       "  <tbody>\n",
       "    <tr>\n",
       "      <th>count</th>\n",
       "      <td>399872.000000</td>\n",
       "      <td>399872.000000</td>\n",
       "      <td>399872.000000</td>\n",
       "    </tr>\n",
       "    <tr>\n",
       "      <th>mean</th>\n",
       "      <td>7.007863</td>\n",
       "      <td>549219.410256</td>\n",
       "      <td>54.005107</td>\n",
       "    </tr>\n",
       "    <tr>\n",
       "      <th>std</th>\n",
       "      <td>2.936084</td>\n",
       "      <td>259756.210412</td>\n",
       "      <td>25.725554</td>\n",
       "    </tr>\n",
       "    <tr>\n",
       "      <th>min</th>\n",
       "      <td>1.000000</td>\n",
       "      <td>100001.000000</td>\n",
       "      <td>10.000000</td>\n",
       "    </tr>\n",
       "    <tr>\n",
       "      <th>25%</th>\n",
       "      <td>5.000000</td>\n",
       "      <td>324007.000000</td>\n",
       "      <td>32.000000</td>\n",
       "    </tr>\n",
       "    <tr>\n",
       "      <th>50%</th>\n",
       "      <td>8.000000</td>\n",
       "      <td>548256.000000</td>\n",
       "      <td>54.000000</td>\n",
       "    </tr>\n",
       "    <tr>\n",
       "      <th>75%</th>\n",
       "      <td>9.000000</td>\n",
       "      <td>774812.750000</td>\n",
       "      <td>76.000000</td>\n",
       "    </tr>\n",
       "    <tr>\n",
       "      <th>max</th>\n",
       "      <td>10.000000</td>\n",
       "      <td>999998.000000</td>\n",
       "      <td>98.000000</td>\n",
       "    </tr>\n",
       "  </tbody>\n",
       "</table>\n",
       "</div>"
      ],
      "text/plain": [
       "              rating     Patient_ID            Age\n",
       "count  399872.000000  399872.000000  399872.000000\n",
       "mean        7.007863  549219.410256      54.005107\n",
       "std         2.936084  259756.210412      25.725554\n",
       "min         1.000000  100001.000000      10.000000\n",
       "25%         5.000000  324007.000000      32.000000\n",
       "50%         8.000000  548256.000000      54.000000\n",
       "75%         9.000000  774812.750000      76.000000\n",
       "max        10.000000  999998.000000      98.000000"
      ]
     },
     "execution_count": 33,
     "metadata": {},
     "output_type": "execute_result"
    }
   ],
   "source": [
    "df.describe()"
   ]
  },
  {
   "cell_type": "code",
   "execution_count": 34,
   "metadata": {},
   "outputs": [],
   "source": [
    "df['Name'] = df['First_Name'] + df['Last_Name']"
   ]
  },
  {
   "cell_type": "code",
   "execution_count": 35,
   "metadata": {},
   "outputs": [],
   "source": [
    "df=df.drop(['First_Name','Last_Name'],axis=1)"
   ]
  },
  {
   "cell_type": "code",
   "execution_count": 36,
   "metadata": {},
   "outputs": [],
   "source": [
    "labels=['Child','Teen','Aduld','Middle Age Adult','Senior Adult']\n",
    "bins= [9,13,20,40,60,100]\n",
    "df['Age_bin'] = pd.cut(df['Age'],bins=bins,labels=labels)"
   ]
  },
  {
   "cell_type": "code",
   "execution_count": 37,
   "metadata": {},
   "outputs": [
    {
     "data": {
      "text/plain": [
       "(399872, 11)"
      ]
     },
     "execution_count": 37,
     "metadata": {},
     "output_type": "execute_result"
    }
   ],
   "source": [
    "df.shape"
   ]
  },
  {
   "cell_type": "code",
   "execution_count": 38,
   "metadata": {},
   "outputs": [
    {
     "data": {
      "text/plain": [
       "Senior Adult        170953\n",
       "Aduld                89672\n",
       "Middle Age Adult     89526\n",
       "Teen                 31512\n",
       "Child                18209\n",
       "Name: Age_bin, dtype: int64"
      ]
     },
     "execution_count": 38,
     "metadata": {},
     "output_type": "execute_result"
    }
   ],
   "source": [
    "df['Age_bin'].value_counts()"
   ]
  },
  {
   "cell_type": "code",
   "execution_count": 39,
   "metadata": {},
   "outputs": [
    {
     "name": "stdout",
     "output_type": "stream",
     "text": [
      "<class 'pandas.core.frame.DataFrame'>\n",
      "Int64Index: 399872 entries, 0 to 399999\n",
      "Data columns (total 11 columns):\n",
      " #   Column         Non-Null Count   Dtype   \n",
      "---  ------         --------------   -----   \n",
      " 0   urlDrugName    399872 non-null  object  \n",
      " 1   rating         399872 non-null  int64   \n",
      " 2   effectiveness  399872 non-null  object  \n",
      " 3   condition      399872 non-null  object  \n",
      " 4   sideEffects    399872 non-null  object  \n",
      " 5   Patient_ID     399872 non-null  int64   \n",
      " 6   Gender         399872 non-null  object  \n",
      " 7   Age            399872 non-null  int64   \n",
      " 8   Race           399872 non-null  object  \n",
      " 9   Name           399872 non-null  object  \n",
      " 10  Age_bin        399872 non-null  category\n",
      "dtypes: category(1), int64(3), object(7)\n",
      "memory usage: 33.9+ MB\n"
     ]
    }
   ],
   "source": [
    "df.info()"
   ]
  },
  {
   "cell_type": "code",
   "execution_count": 40,
   "metadata": {},
   "outputs": [],
   "source": [
    "agg_data={'Age':['min','max','mean','median'],'rating':['min','max','mean','median'],'urlDrugName':['size','nunique'],\n",
    "          'effectiveness':['size','nunique'],'condition':['size','nunique'],'Gender':['size','nunique'],\n",
    "          'Race':['size','nunique']}\n",
    "df1 = df.groupby(['effectiveness','Race']).agg(agg_data)\n",
    "\n",
    "df1.columns=['C_' + '_'.join(col).strip() for col in df1.columns.values]\n",
    "df1.reset_index(inplace=True)\n",
    "df1.head()\n",
    "df=df.merge(df1,on=['effectiveness','Race'],how='left')"
   ]
  },
  {
   "cell_type": "code",
   "execution_count": 41,
   "metadata": {},
   "outputs": [],
   "source": [
    "agg_data={'Age':['min','max','mean','median'],'rating':['min','max','mean','median'],'urlDrugName':['size','nunique'],\n",
    "          'effectiveness':['size','nunique'],'condition':['size','nunique'],'Gender':['size','nunique'],\n",
    "          'Race':['size','nunique']}\n",
    "df1 = df.groupby(['effectiveness','condition','Age_bin']).agg(agg_data)\n",
    "\n",
    "df1.columns=['D_' + '_'.join(col).strip() for col in df1.columns.values]\n",
    "df1.reset_index(inplace=True)\n",
    "df1.head()\n",
    "df=df.merge(df1,on=['effectiveness','condition','Age_bin'],how='left')"
   ]
  },
  {
   "cell_type": "code",
   "execution_count": 42,
   "metadata": {},
   "outputs": [],
   "source": [
    "agg_data={'Age':['min','max','mean','median'],'rating':['min','max','mean','median'],'urlDrugName':['size','nunique'],\n",
    "          'effectiveness':['size','nunique'],'condition':['size','nunique'],'Gender':['size','nunique'],\n",
    "          'Race':['size','nunique']}\n",
    "df1 = df.groupby(['effectiveness','Gender','Age_bin','Race']).agg(agg_data)\n",
    "\n",
    "df1.columns=['E_' + '_'.join(col).strip() for col in df1.columns.values]\n",
    "df1.reset_index(inplace=True)\n",
    "df1.head()\n",
    "df=df.merge(df1,on=['effectiveness','Gender','Age_bin','Race'],how='left')"
   ]
  },
  {
   "cell_type": "code",
   "execution_count": 43,
   "metadata": {},
   "outputs": [],
   "source": [
    "agg_data={'Age':['min','max','mean','median'],'rating':['min','max','mean','median'],'urlDrugName':['size','nunique'],\n",
    "          'effectiveness':['size','nunique'],'condition':['size','nunique'],'Gender':['size','nunique'],\n",
    "          'Race':['size','nunique']}\n",
    "df1 = df.groupby(['urlDrugName','Gender','Age_bin','Race']).agg(agg_data)\n",
    "\n",
    "df1.columns=['F_' + '_'.join(col).strip() for col in df1.columns.values]\n",
    "df1.reset_index(inplace=True)\n",
    "df1.head()\n",
    "df=df.merge(df1,on=['urlDrugName','Gender','Age_bin','Race'],how='left')"
   ]
  },
  {
   "cell_type": "code",
   "execution_count": 44,
   "metadata": {},
   "outputs": [
    {
     "name": "stdout",
     "output_type": "stream",
     "text": [
      "<class 'pandas.core.frame.DataFrame'>\n",
      "Int64Index: 399872 entries, 0 to 399871\n",
      "Data columns (total 83 columns):\n",
      " #   Column                   Non-Null Count   Dtype   \n",
      "---  ------                   --------------   -----   \n",
      " 0   urlDrugName              399872 non-null  object  \n",
      " 1   rating                   399872 non-null  int64   \n",
      " 2   effectiveness            399872 non-null  object  \n",
      " 3   condition                399872 non-null  object  \n",
      " 4   sideEffects              399872 non-null  object  \n",
      " 5   Patient_ID               399872 non-null  int64   \n",
      " 6   Gender                   399872 non-null  object  \n",
      " 7   Age                      399872 non-null  int64   \n",
      " 8   Race                     399872 non-null  object  \n",
      " 9   Name                     399872 non-null  object  \n",
      " 10  Age_bin                  399872 non-null  category\n",
      " 11  C_Age_min                399872 non-null  int64   \n",
      " 12  C_Age_max                399872 non-null  int64   \n",
      " 13  C_Age_mean               399872 non-null  float64 \n",
      " 14  C_Age_median             399872 non-null  int64   \n",
      " 15  C_rating_min             399872 non-null  int64   \n",
      " 16  C_rating_max             399872 non-null  int64   \n",
      " 17  C_rating_mean            399872 non-null  float64 \n",
      " 18  C_rating_median          399872 non-null  int64   \n",
      " 19  C_urlDrugName_size       399872 non-null  int64   \n",
      " 20  C_urlDrugName_nunique    399872 non-null  int64   \n",
      " 21  C_effectiveness_size     399872 non-null  int64   \n",
      " 22  C_effectiveness_nunique  399872 non-null  int64   \n",
      " 23  C_condition_size         399872 non-null  int64   \n",
      " 24  C_condition_nunique      399872 non-null  int64   \n",
      " 25  C_Gender_size            399872 non-null  int64   \n",
      " 26  C_Gender_nunique         399872 non-null  int64   \n",
      " 27  C_Race_size              399872 non-null  int64   \n",
      " 28  C_Race_nunique           399872 non-null  int64   \n",
      " 29  D_Age_min                399872 non-null  float64 \n",
      " 30  D_Age_max                399872 non-null  float64 \n",
      " 31  D_Age_mean               399872 non-null  float64 \n",
      " 32  D_Age_median             399872 non-null  float64 \n",
      " 33  D_rating_min             399872 non-null  float64 \n",
      " 34  D_rating_max             399872 non-null  float64 \n",
      " 35  D_rating_mean            399872 non-null  float64 \n",
      " 36  D_rating_median          399872 non-null  float64 \n",
      " 37  D_urlDrugName_size       399872 non-null  int64   \n",
      " 38  D_urlDrugName_nunique    399872 non-null  int64   \n",
      " 39  D_effectiveness_size     399872 non-null  int64   \n",
      " 40  D_effectiveness_nunique  399872 non-null  int64   \n",
      " 41  D_condition_size         399872 non-null  int64   \n",
      " 42  D_condition_nunique      399872 non-null  int64   \n",
      " 43  D_Gender_size            399872 non-null  int64   \n",
      " 44  D_Gender_nunique         399872 non-null  int64   \n",
      " 45  D_Race_size              399872 non-null  int64   \n",
      " 46  D_Race_nunique           399872 non-null  int64   \n",
      " 47  E_Age_min                399872 non-null  int64   \n",
      " 48  E_Age_max                399872 non-null  int64   \n",
      " 49  E_Age_mean               399872 non-null  float64 \n",
      " 50  E_Age_median             399872 non-null  float64 \n",
      " 51  E_rating_min             399872 non-null  int64   \n",
      " 52  E_rating_max             399872 non-null  int64   \n",
      " 53  E_rating_mean            399872 non-null  float64 \n",
      " 54  E_rating_median          399872 non-null  float64 \n",
      " 55  E_urlDrugName_size       399872 non-null  int64   \n",
      " 56  E_urlDrugName_nunique    399872 non-null  int64   \n",
      " 57  E_effectiveness_size     399872 non-null  int64   \n",
      " 58  E_effectiveness_nunique  399872 non-null  int64   \n",
      " 59  E_condition_size         399872 non-null  int64   \n",
      " 60  E_condition_nunique      399872 non-null  int64   \n",
      " 61  E_Gender_size            399872 non-null  int64   \n",
      " 62  E_Gender_nunique         399872 non-null  int64   \n",
      " 63  E_Race_size              399872 non-null  int64   \n",
      " 64  E_Race_nunique           399872 non-null  int64   \n",
      " 65  F_Age_min                399872 non-null  float64 \n",
      " 66  F_Age_max                399872 non-null  float64 \n",
      " 67  F_Age_mean               399872 non-null  float64 \n",
      " 68  F_Age_median             399872 non-null  float64 \n",
      " 69  F_rating_min             399872 non-null  float64 \n",
      " 70  F_rating_max             399872 non-null  float64 \n",
      " 71  F_rating_mean            399872 non-null  float64 \n",
      " 72  F_rating_median          399872 non-null  float64 \n",
      " 73  F_urlDrugName_size       399872 non-null  int64   \n",
      " 74  F_urlDrugName_nunique    399872 non-null  int64   \n",
      " 75  F_effectiveness_size     399872 non-null  int64   \n",
      " 76  F_effectiveness_nunique  399872 non-null  int64   \n",
      " 77  F_condition_size         399872 non-null  int64   \n",
      " 78  F_condition_nunique      399872 non-null  int64   \n",
      " 79  F_Gender_size            399872 non-null  int64   \n",
      " 80  F_Gender_nunique         399872 non-null  int64   \n",
      " 81  F_Race_size              399872 non-null  int64   \n",
      " 82  F_Race_nunique           399872 non-null  int64   \n",
      "dtypes: category(1), float64(22), int64(53), object(7)\n",
      "memory usage: 253.6+ MB\n"
     ]
    }
   ],
   "source": [
    "df.info()"
   ]
  },
  {
   "cell_type": "code",
   "execution_count": 45,
   "metadata": {},
   "outputs": [
    {
     "name": "stdout",
     "output_type": "stream",
     "text": [
      "['C_rating_median', 'C_urlDrugName_nunique', 'C_effectiveness_size', 'C_condition_size', 'C_condition_nunique', 'C_Gender_size', 'C_Race_size', 'D_Age_max', 'D_Age_mean', 'D_Age_median', 'D_rating_median', 'D_effectiveness_size', 'D_condition_size', 'D_Gender_size', 'D_Race_size', 'E_Age_min', 'E_Age_max', 'E_Age_mean', 'E_Age_median', 'E_rating_max', 'E_rating_mean', 'E_rating_median', 'E_effectiveness_size', 'E_condition_size', 'E_condition_nunique', 'E_Gender_size', 'E_Race_size', 'F_Age_min', 'F_Age_max', 'F_Age_mean', 'F_Age_median', 'F_effectiveness_size', 'F_condition_size', 'F_Gender_size', 'F_Race_size']\n"
     ]
    }
   ],
   "source": [
    "to_drop=[]\n",
    "corr_matrix = df.drop(['Patient_ID','sideEffects'],axis=1).corr()\n",
    "#print(corr_matrix)\n",
    "upper = corr_matrix.where(np.triu(np.ones(corr_matrix.shape), k=1).astype(np.bool))\n",
    "upper   \n",
    "\n",
    "to_drop = [column for column in upper.columns if any(upper[column] > 0.95)]\n",
    "print(to_drop)\n",
    "\n",
    "\n",
    "df.drop(to_drop,inplace=True,axis=1)"
   ]
  },
  {
   "cell_type": "code",
   "execution_count": 46,
   "metadata": {},
   "outputs": [
    {
     "data": {
      "text/plain": [
       "(399872, 48)"
      ]
     },
     "execution_count": 46,
     "metadata": {},
     "output_type": "execute_result"
    }
   ],
   "source": [
    "df.shape"
   ]
  },
  {
   "cell_type": "code",
   "execution_count": 47,
   "metadata": {},
   "outputs": [
    {
     "name": "stdout",
     "output_type": "stream",
     "text": [
      "<class 'pandas.core.frame.DataFrame'>\n",
      "Int64Index: 399872 entries, 0 to 399871\n",
      "Data columns (total 48 columns):\n",
      " #   Column                   Non-Null Count   Dtype   \n",
      "---  ------                   --------------   -----   \n",
      " 0   urlDrugName              399872 non-null  object  \n",
      " 1   rating                   399872 non-null  int64   \n",
      " 2   effectiveness            399872 non-null  object  \n",
      " 3   condition                399872 non-null  object  \n",
      " 4   sideEffects              399872 non-null  object  \n",
      " 5   Patient_ID               399872 non-null  int64   \n",
      " 6   Gender                   399872 non-null  object  \n",
      " 7   Age                      399872 non-null  int64   \n",
      " 8   Race                     399872 non-null  object  \n",
      " 9   Name                     399872 non-null  object  \n",
      " 10  Age_bin                  399872 non-null  category\n",
      " 11  C_Age_min                399872 non-null  int64   \n",
      " 12  C_Age_max                399872 non-null  int64   \n",
      " 13  C_Age_mean               399872 non-null  float64 \n",
      " 14  C_Age_median             399872 non-null  int64   \n",
      " 15  C_rating_min             399872 non-null  int64   \n",
      " 16  C_rating_max             399872 non-null  int64   \n",
      " 17  C_rating_mean            399872 non-null  float64 \n",
      " 18  C_urlDrugName_size       399872 non-null  int64   \n",
      " 19  C_effectiveness_nunique  399872 non-null  int64   \n",
      " 20  C_Gender_nunique         399872 non-null  int64   \n",
      " 21  C_Race_nunique           399872 non-null  int64   \n",
      " 22  D_Age_min                399872 non-null  float64 \n",
      " 23  D_rating_min             399872 non-null  float64 \n",
      " 24  D_rating_max             399872 non-null  float64 \n",
      " 25  D_rating_mean            399872 non-null  float64 \n",
      " 26  D_urlDrugName_size       399872 non-null  int64   \n",
      " 27  D_urlDrugName_nunique    399872 non-null  int64   \n",
      " 28  D_effectiveness_nunique  399872 non-null  int64   \n",
      " 29  D_condition_nunique      399872 non-null  int64   \n",
      " 30  D_Gender_nunique         399872 non-null  int64   \n",
      " 31  D_Race_nunique           399872 non-null  int64   \n",
      " 32  E_rating_min             399872 non-null  int64   \n",
      " 33  E_urlDrugName_size       399872 non-null  int64   \n",
      " 34  E_urlDrugName_nunique    399872 non-null  int64   \n",
      " 35  E_effectiveness_nunique  399872 non-null  int64   \n",
      " 36  E_Gender_nunique         399872 non-null  int64   \n",
      " 37  E_Race_nunique           399872 non-null  int64   \n",
      " 38  F_rating_min             399872 non-null  float64 \n",
      " 39  F_rating_max             399872 non-null  float64 \n",
      " 40  F_rating_mean            399872 non-null  float64 \n",
      " 41  F_rating_median          399872 non-null  float64 \n",
      " 42  F_urlDrugName_size       399872 non-null  int64   \n",
      " 43  F_urlDrugName_nunique    399872 non-null  int64   \n",
      " 44  F_effectiveness_nunique  399872 non-null  int64   \n",
      " 45  F_condition_nunique      399872 non-null  int64   \n",
      " 46  F_Gender_nunique         399872 non-null  int64   \n",
      " 47  F_Race_nunique           399872 non-null  int64   \n",
      "dtypes: category(1), float64(10), int64(30), object(7)\n",
      "memory usage: 146.8+ MB\n"
     ]
    }
   ],
   "source": [
    "df.info()"
   ]
  },
  {
   "cell_type": "code",
   "execution_count": 48,
   "metadata": {},
   "outputs": [
    {
     "data": {
      "text/plain": [
       "lexapro                8114\n",
       "prozac                 5918\n",
       "zoloft                 5795\n",
       "retin-a                5794\n",
       "propecia               4895\n",
       "                       ... \n",
       "estring                 128\n",
       "medroxyprogesterone     128\n",
       "aralen                  128\n",
       "glucophage-xr           128\n",
       "nasarel                 128\n",
       "Name: urlDrugName, Length: 502, dtype: int64"
      ]
     },
     "execution_count": 48,
     "metadata": {},
     "output_type": "execute_result"
    }
   ],
   "source": [
    "\n",
    "df.urlDrugName = df.urlDrugName.apply(lambda x: x.strip())\n",
    "drugname = df['urlDrugName'].value_counts(ascending=False)\n",
    "drugname"
   ]
  },
  {
   "cell_type": "code",
   "execution_count": 49,
   "metadata": {},
   "outputs": [],
   "source": [
    "en1=df.groupby('Patient_ID').size()/len(df)\n",
    "en2=df.groupby('Name').size()/len(df)\n",
    "df.loc[:,'PatientID_en']=df['Patient_ID'].map(en1)\n",
    "df.loc[:,'Name_en']=df['Name'].map(en2)"
   ]
  },
  {
   "cell_type": "code",
   "execution_count": 50,
   "metadata": {},
   "outputs": [],
   "source": [
    "df.drop(['Patient_ID','Name'],axis=1,inplace=True)"
   ]
  },
  {
   "cell_type": "code",
   "execution_count": 51,
   "metadata": {},
   "outputs": [],
   "source": [
    "from sklearn.preprocessing import LabelEncoder"
   ]
  },
  {
   "cell_type": "code",
   "execution_count": 52,
   "metadata": {},
   "outputs": [],
   "source": [
    "df_cat=df[['urlDrugName','effectiveness','condition','Gender','Race','Age_bin']]"
   ]
  },
  {
   "cell_type": "code",
   "execution_count": 53,
   "metadata": {},
   "outputs": [],
   "source": [
    "label_encoder = LabelEncoder()"
   ]
  },
  {
   "cell_type": "code",
   "execution_count": 54,
   "metadata": {},
   "outputs": [
    {
     "name": "stdout",
     "output_type": "stream",
     "text": [
      "{'urlDrugName': {'abilify': 0, 'accolate': 1, 'accupril': 2, 'accutane': 3, 'aciphex': 4, 'actiq': 5, 'actonel': 6, 'actos': 7, 'acyclovir': 8, 'aczone': 9, 'adcirca': 10, 'adderall': 11, 'adderall-xr': 12, 'adipex-p': 13, 'advair-diskus': 14, 'advair-hfa': 15, 'albuterol': 16, 'aldactone': 17, 'aldara': 18, 'alendronate': 19, 'alesse': 20, 'allegra': 21, 'allegra-d': 22, 'aloprim': 23, 'alprazolam': 24, 'ambien': 25, 'ambien-cr': 26, 'amerge': 27, 'amitiza': 28, 'amoxil': 29, 'amphetamine': 30, 'ampicillin': 31, 'anafranil': 32, 'androgel': 33, 'angeliq': 34, 'antivert': 35, 'aralen': 36, 'arava': 37, 'aricept': 38, 'arimidex': 39, 'armour-thyroid': 40, 'aromasin': 41, 'arthrotec': 42, 'asacol': 43, 'asmanex': 44, 'atacand': 45, 'atarax': 46, 'atenolol': 47, 'ativan': 48, 'atripla': 49, 'augmentin': 50, 'avage': 51, 'avapro': 52, 'avelox': 53, 'avita': 54, 'avodart': 55, 'axert': 56, 'aygestin': 57, 'azasan': 58, 'azelex': 59, 'azopt': 60, 'azor': 61, 'baciim': 62, 'baclofen': 63, 'bactrim-ds': 64, 'bactroban': 65, 'baraclude': 66, 'benadryl': 67, 'benicar': 68, 'benicar-hct': 69, 'benzaclin': 70, 'betamethasone': 71, 'betaseron': 72, 'biaxin': 73, 'bisoprolol': 74, 'boniva': 75, 'botox': 76, 'buprenorphine': 77, 'buspar': 78, 'byetta': 79, 'bystolic': 80, 'caduet': 81, 'carac': 82, 'cardura': 83, 'cardura-xl': 84, 'cataflam': 85, 'catapres': 86, 'ceclor': 87, 'cefzil': 88, 'celebrex': 89, 'celexa': 90, 'chantix': 91, 'cialis': 92, 'cipro': 93, 'citalopram': 94, 'clarinex': 95, 'claripel-cream': 96, 'clarithromycin': 97, 'claritin': 98, 'cleocin': 99, 'climara': 100, 'climara-pro': 101, 'clindamycin': 102, 'clindamycin-topical': 103, 'clobetasol': 104, 'clobex': 105, 'clomid': 106, 'clonazepam': 107, 'compazine': 108, 'concerta': 109, 'copaxone': 110, 'coreg': 111, 'corgard': 112, 'cosopt': 113, 'coumadin': 114, 'cozaar': 115, 'crestor': 116, 'cymbalta': 117, 'cyproheptadine': 118, 'cytomel': 119, 'danazol': 120, 'dapsone': 121, 'darvocet-n': 122, 'delestrogen': 123, 'deltasone': 124, 'depakene': 125, 'depakote': 126, 'depo-provera': 127, 'desonide': 128, 'desyrel': 129, 'detrol': 130, 'detrol-la': 131, 'dexamethasone': 132, 'dexedrine': 133, 'dextroamphetamine': 134, 'dextrostat': 135, 'diazepam': 136, 'diclofenac': 137, 'dicyclomine': 138, 'differin': 139, 'diflucan': 140, 'dilantin': 141, 'dilaudid': 142, 'diltiazem': 143, 'diovan': 144, 'dispermox': 145, 'ditropan': 146, 'divigel': 147, 'doryx': 148, 'dostinex': 149, 'dovonex': 150, 'doxepin': 151, 'doxycycline': 152, 'duac': 153, 'duragesic': 154, 'dysport': 155, 'ecotrin': 156, 'effexor': 157, 'effexor-xr': 158, 'efudex': 159, 'elavil': 160, 'elidel': 161, 'elmiron': 162, 'elocon': 163, 'emsam': 164, 'enablex': 165, 'enalapril': 166, 'enbrel': 167, 'erythra-derm': 168, 'erythromycin': 169, 'estrace': 170, 'estrasorb': 171, 'estratest': 172, 'estring': 173, 'estrostep-fe': 174, 'eulexin': 175, 'evista': 176, 'evoclin': 177, 'exelon': 178, 'femara': 179, 'femhrt': 180, 'femring': 181, 'fentanyl': 182, 'fexofenadine': 183, 'finacea': 184, 'fioricet': 185, 'fiorinal': 186, 'flagyl': 187, 'flexeril': 188, 'flomax': 189, 'flonase': 190, 'flovent': 191, 'fluconazole': 192, 'fluvoxamine': 193, 'follistim': 194, 'fortaz': 195, 'fosamax': 196, 'fosamax-plus-d': 197, 'fosinopril': 198, 'frova': 199, 'galzin': 200, 'geodon': 201, 'glucophage': 202, 'glucophage-xr': 203, 'gonal-f-rff': 204, 'grifulvin-v': 205, 'halcion': 206, 'haldol': 207, 'humira': 208, 'hydrochlorothiazide': 209, 'hydrocodone-and-acetaminophen': 210, 'hydrocortisone': 211, 'hyoscyamine': 212, 'hytrin': 213, 'hyzaar': 214, 'imitrex': 215, 'imodium': 216, 'imuran': 217, 'inderal': 218, 'innofem': 219, 'inspra': 220, 'isoniazid': 221, 'keflex': 222, 'kenalog': 223, 'keppra': 224, 'ketoconazole': 225, 'ketorolac': 226, 'klaron': 227, 'klonopin': 228, 'lac-hydrin': 229, 'lamictal': 230, 'lamisil': 231, 'lamotrigine': 232, 'lantus': 233, 'lasix': 234, 'latisse': 235, 'levaquin': 236, 'levetiracetam': 237, 'levitra': 238, 'levora': 239, 'levothroid': 240, 'levoxyl': 241, 'lexapro': 242, 'lidex': 243, 'lidocaine': 244, 'lipitor': 245, 'lithium-carbonate': 246, 'lo-ovral': 247, 'locoid-lipocream': 248, 'lodine': 249, 'lopressor': 250, 'lorazepam': 251, 'lortab': 252, 'lotrel': 253, 'lotronex': 254, 'lumigan': 255, 'lunesta': 256, 'lupron': 257, 'lybrel': 258, 'lyrica': 259, 'macrobid': 260, 'malarone': 261, 'maxalt': 262, 'medroxyprogesterone': 263, 'meperidine': 264, 'mercaptopurine': 265, 'meridia': 266, 'metformin': 267, 'metformin-extended-release': 268, 'methadone': 269, 'methimazole': 270, 'methotrexate': 271, 'metoclopramide': 272, 'metoprolol': 273, 'metrogel': 274, 'metrolotion': 275, 'metronidazole': 276, 'mevacor': 277, 'micardis': 278, 'minocin': 279, 'minocycline': 280, 'minoxidil': 281, 'miralax': 282, 'mirapex': 283, 'mirena': 284, 'mirtazapine': 285, 'mobic': 286, 'morphine': 287, 'motrin': 288, 'naltrexone': 289, 'naprosyn': 290, 'naproxen': 291, 'nardil': 292, 'nasacort': 293, 'nasacort-aq': 294, 'nasarel': 295, 'nasonex': 296, 'neoprofen': 297, 'neurontin': 298, 'nexium': 299, 'niacor': 300, 'niaspan': 301, 'nitrofurantoin': 302, 'nizoral': 303, 'nizoral-shampoo': 304, 'nolvadex': 305, 'noroxin': 306, 'norpramin': 307, 'nortriptyline': 308, 'norvasc': 309, 'nuvaring': 310, 'nuvigil': 311, 'nystatin': 312, 'omacor': 313, 'omnicef': 314, 'omnitrope': 315, 'oracea': 316, 'ortho-evra': 317, 'ortho-novum': 318, 'ortho-tri-cyclen': 319, 'ortho-tri-cyclen-lo': 320, 'oxazepam': 321, 'oxybutynin': 322, 'oxycodone': 323, 'oxycodone-and-acetaminophen': 324, 'oxycontin': 325, 'pamelor': 326, 'panixine-disperdose': 327, 'parlodel': 328, 'paxil': 329, 'paxil-cr': 330, 'penicillin-v': 331, 'penlac': 332, 'pentasa': 333, 'pepcid': 334, 'percocet': 335, 'periogard': 336, 'periostat': 337, 'permapen': 338, 'phendimetrazine': 339, 'phenergan': 340, 'pilocarpine': 341, 'plavix': 342, 'plendil': 343, 'polymyxin-b': 344, 'ponstel': 345, 'pravachol': 346, 'prednisolone': 347, 'prednisone': 348, 'premarin': 349, 'premarin-vaginal': 350, 'prempro': 351, 'prevacid': 352, 'prilosec': 353, 'prinivil': 354, 'pristiq': 355, 'proair-hfa': 356, 'prochlorperazine': 357, 'progesterone': 358, 'prograf': 359, 'proloprim': 360, 'prometrium': 361, 'propecia': 362, 'propranolol': 363, 'proquin-xr': 364, 'proscar': 365, 'protonix': 366, 'protopic': 367, 'provera': 368, 'provigil': 369, 'prozac': 370, 'quibron-t': 371, 'qvar': 372, 'ranitidine': 373, 'rebif': 374, 'reglan': 375, 'relafen': 376, 'relpax': 377, 'remeron': 378, 'remicade': 379, 'renova': 380, 'requip': 381, 'restasis': 382, 'restoril': 383, 'retin-a': 384, 'retin-a-micro': 385, 'rhinocort': 386, 'ribavirin': 387, 'rifadin': 388, 'risperdal': 389, 'risperdal-consta': 390, 'ritalin': 391, 'ritalin-la': 392, 'saizen': 393, 'sanctura-xr': 394, 'sarafem': 395, 'seasonale': 396, 'seasonique': 397, 'selegiline': 398, 'septra': 399, 'seroquel': 400, 'seroquel-xr': 401, 'serzone': 402, 'singulair': 403, 'skelaxin': 404, 'solodyn': 405, 'soltamox': 406, 'soma': 407, 'sonata': 408, 'sotret': 409, 'spiriva': 410, 'spironolactone': 411, 'strattera': 412, 'suboxone': 413, 'sular': 414, 'sulfasalazine': 415, 'sulindac': 416, 'sumatriptan': 417, 'symbicort': 418, 'symbyax': 419, 'synthroid': 420, 'tambocor': 421, 'tamiflu': 422, 'tapazole': 423, 'tarka': 424, 'tazorac': 425, 'tegretol': 426, 'tekturna': 427, 'temovate': 428, 'tenormin': 429, 'tequin': 430, 'tetracycline': 431, 'tirosint': 432, 'tobramycin': 433, 'tofranil-pm': 434, 'topamax': 435, 'topicort': 436, 'toprol-xl': 437, 'toradol': 438, 'tramadol': 439, 'trazodone': 440, 'trental': 441, 'tri-luma': 442, 'triamcinolone': 443, 'triaz': 444, 'trileptal': 445, 'trilipix': 446, 'trimethobenzamide': 447, 'trimethoprim': 448, 'triphasil': 449, 'tussionex': 450, 'tylenol': 451, 'ultracet': 452, 'ultram': 453, 'ultram-er': 454, 'vagifem': 455, 'valium': 456, 'valtrex': 457, 'vaniqa': 458, 'vasotec': 459, 'ventolin-hfa': 460, 'vesicare': 461, 'viagra': 462, 'vicodin': 463, 'vicoprofen': 464, 'vigamox': 465, 'vioxx': 466, 'vistaril': 467, 'vivelle': 468, 'vivelle-dot': 469, 'voltaren': 470, 'vytorin': 471, 'vyvanse': 472, 'warfarin': 473, 'wellbutrin': 474, 'wellbutrin-sr': 475, 'wellbutrin-xl': 476, 'xalatan': 477, 'xanax': 478, 'xanax-xr': 479, 'xenical': 480, 'xyrem': 481, 'xyzal': 482, 'yasmin': 483, 'zantac': 484, 'zegerid': 485, 'zestoretic': 486, 'ziac': 487, 'ziana': 488, 'zithromax': 489, 'zmax': 490, 'zocor': 491, 'zofran': 492, 'zoloft': 493, 'zomig': 494, 'zovirax': 495, 'zovirax-topical': 496, 'zyban': 497, 'zyprexa': 498, 'zyrtec': 499, 'zyrtec-d': 500, 'zyvox': 501}, 'effectiveness': {'Considerably Effective': 0, 'Highly Effective': 1, 'Ineffective': 2, 'Marginally Effective': 3, 'Moderately Effective': 4}, 'condition': {'2 compressed discs in neck': 0, '20 year pack a day smoker': 1, 'a boil': 2, 'a little bit of osteoporosis in the hips': 3, 'a typical migraines': 4, 'abcessed tooth': 5, 'abdominal pain': 6, 'ac joint dislocation': 7, 'achilles tendonitis': 8, 'acic reflux': 9, 'acid reflex': 10, 'acid reflux': 11, 'acid reflux, gerd': 12, 'acid reflux/chronic bronchitis': 13, 'acl reconstruction': 14, 'acne': 15, 'acne - blackheads and acne scars': 16, 'acne / blackheads / oily skin': 17, 'acne and anti age benefits': 18, 'acne and birth control': 19, 'acne and contraception': 20, 'acne and perioral dermatitis': 21, 'acne and sun damage': 22, 'acne and water retention': 23, 'acne and wrinkles': 24, 'acne cysts': 25, 'acne on my back': 26, 'acne rosacea': 27, 'acne with cystic fibrosis genetic condition': 28, 'acne, anti-aging': 29, 'acne, melasma': 30, 'acne, photoaging': 31, 'acne, wrinkles': 32, 'acne/anti-agin': 33, 'acne/oily skin': 34, 'acne/wrinkles': 35, 'actinic keratoses': 36, 'active chronic gastritis': 37, 'acute and long term chronic and severe back pain': 38, 'acute peptic ulcer': 39, 'acute sinusitis': 40, 'acute sinusitis/bronchitis': 41, 'add': 42, 'add & anxiety': 43, 'add - mild depression': 44, 'add and depression': 45, 'add inattentive, delayed sleep phase syndrome': 46, 'addh': 47, 'adhd': 48, 'adhd (attention deficit hyperactive disorder)': 49, 'adhd (predominantly inattentive)': 50, 'adhd, depression/anxiety': 51, 'adhd, inattentive type': 52, 'adrenal burnout, chronic fatigue & premature agin': 53, 'adult acne': 54, 'adult acne/wrinkles': 55, 'adult add': 56, 'adult adhd': 57, 'adult moderate hormone related acne': 58, 'adult onset acne': 59, 'after 42 years, quit smoking': 60, 'after an angiogram': 61, 'after birth thyroid not working to mormal levelc': 62, 'age spots on hand': 63, 'aging': 64, 'aging skin': 65, 'aging skin, few break-outs, hyperpigmentation': 66, 'aging skin, wrinkles, sag': 67, 'aging wrinkles': 68, 'agitation management r/t lewy body syndrome  demen': 69, 'agoraphobia, panic disorder': 70, 'airplane flight anxiety': 71, 'alcohol abuse': 72, 'alcohol addiction': 73, 'alergies': 74, 'alergy': 75, 'all over and various type pain': 76, 'allegry': 77, 'allergic rash': 78, 'allergic reaction': 79, 'allergic reaction on face to a cosmetic': 80, 'allergic rhinitis': 81, 'allergies': 82, 'allergies and asthma': 83, 'allergies sneezing , watery runny nose': 84, 'allergy': 85, 'allergy induced asthma': 86, 'allergy to trauma to the face.': 87, 'allergy, runny nose, hay fever': 88, 'alopecia': 89, \"alzheimer's\": 90, \"alzheimer's/dementia\": 91, 'alzheimers': 92, 'amputee, constant sores on stump': 93, 'ankle sprain': 94, 'ankylosing spondalytis': 95, 'ankylosing spondylitis': 96, 'anti aging': 97, 'anti malarial': 98, 'anti seizure': 99, 'anti-aging prophilatic': 100, 'anti-aging, acne': 101, 'anti-depressant': 102, 'anti-inflammatory/pain': 103, 'anti-malarial': 104, 'anti-rejection': 105, 'antiaging': 106, 'antibiotic to treat oral infection': 107, 'antidepressant': 108, 'anxeity': 109, 'anxety / depression': 110, 'anxiety': 111, 'anxiety & depression': 112, 'anxiety / restlessness': 113, 'anxiety and depression': 114, 'anxiety and mild depression': 115, 'anxiety and to avoid feeling misrable': 116, 'anxiety attacks': 117, 'anxiety depression': 118, 'anxiety disorder': 119, 'anxiety due to relationship stress': 120, 'anxiety from a reaction': 121, 'anxiety insomnia': 122, 'anxiety rapid onset': 123, 'anxiety related to severe pms': 124, 'anxiety, depresion': 125, 'anxiety, depression': 126, 'anxiety, depression, panic attacks': 127, 'anxiety, hopelessness': 128, 'anxiety, mild depression': 129, 'anxiety, ocd': 130, 'anxiety, panic attack': 131, 'anxiety, panic attck, nervousness': 132, 'anxiety, panic disorder': 133, 'anxiety, stress': 134, 'anxiety,depression': 135, 'anxiety/ depression': 136, 'anxiety/ mild depression': 137, 'anxiety/ ocpd /depression': 138, 'anxiety/ pain': 139, 'anxiety/depreesion': 140, 'anxiety/depression': 141, 'anxiety/insomnia': 142, 'anxiety/insomnia/': 143, 'anxiety/mild ptsd': 144, 'anxiety/panic attacks': 145, 'anxiety/trouble sleeping': 146, 'anxiety/worry': 147, 'appetite control': 148, 'appetite suppression': 149, 'arthritis': 150, 'arthritis in knees': 151, 'arthritis pain': 152, 'arthritis pain, neck injury': 153, 'arthritis/knee pain': 154, 'astham': 155, 'asthma': 156, 'asthma - repeated chest infections': 157, 'asthma \\\\ allergies': 158, 'asthma flares': 159, 'asthma, allergies': 160, 'asthma, emphysema': 161, 'asthma/allergies': 162, 'asthma/copd': 163, 'asthmas/ rhinitis': 164, 'asthmatic bronchitis': 165, 'athletes foot': 166, 'atopic dernatitis': 167, 'atopic eczema': 168, 'atrial fib': 169, 'atrial fibrillation': 170, 'atrial frbulation': 171, 'attention deficit disorder': 172, 'attention deficit disorder (inattentive type)': 173, 'attention deficit problems, concentration difficul': 174, 'atypical breast biopsy': 175, 'atypical hyperplasia in breast and hypothyrodism': 176, 'auto accident, severe whiplash': 177, 'back injury': 178, 'back pain': 179, 'back pain slipped disk': 180, 'back pain/depression': 181, 'back pain; restlessness': 182, 'back stiffness': 183, 'bacterial growth': 184, 'bacterial infection': 185, 'bacterial infection in patient with copd': 186, 'bacterial infectoin': 187, 'bacterial lung infection': 188, 'bacterial vaginosis': 189, \"baker's cysts behind both knees\": 190, 'baldness': 191, 'ballanitis': 192, 'barretts disease': 193, 'basal cell and squamous cancer': 194, 'basal cell carcinoma': 195, 'beginning of osteoporosis of the hip': 196, \"behcet's disease\": 197, 'bi-polar': 198, 'bi-polar 2': 199, 'bi-polar disorder': 200, 'bi-polar mania with anger issues': 201, 'bipolar': 202, 'bipolar 2': 203, 'bipolar 2-extreme moods swings': 204, 'bipolar depression': 205, 'bipolar disorder': 206, 'bipolar disorder / insomnia': 207, 'bipolar disorder and depression': 208, 'bipolar disorder ii': 209, 'bipolar disorder type ii': 210, 'bipolar disorder with severe lows & fatigue,': 211, 'bipolar i': 212, 'bipolar ii': 213, 'bipolar mania': 214, 'bipolar/mixed manic episodes/severe depression': 215, 'bipolar/raciness/insomnia': 216, 'birth control': 217, 'birth control method': 218, 'birth control pill': 219, 'birth control, acne control': 220, 'birth control, menstrual cramps': 221, 'birth control. prevention of pregnacy': 222, 'birth control/ regular periods.': 223, 'birth prevention': 224, 'birthcontrol': 225, 'blackheads,large pores,sun damage': 226, 'bladder control': 227, 'bladder infection': 228, 'bladder infections': 229, 'bladder pressure': 230, 'blepharospasm': 231, 'blood clots': 232, 'blood pressure': 233, 'bone density tests showed early osteo.': 234, 'borderline personality disorder, bi polar': 235, 'bph': 236, 'breast cancer': 237, 'broken collarbone': 238, 'broken ribs': 239, 'bronchial infection': 240, 'bronchitis': 241, 'bronchitus': 242, 'bronkitis': 243, 'brow wrinkles': 244, 'brown spots': 245, 'budging disk in neck': 246, 'buldging/ruptured disc': 247, 'burn from motorcycle accident': 248, 'burning feeling in throat and chest': 249, 'bursitis': 250, 'bursitis and tennis elbow': 251, \"can't sleep\": 252, 'cancer related pain': 253, 'cancer/constant pain': 254, 'candida caused yeast infection': 255, 'candida rashes': 256, 'capsuar contracture of breast implant': 257, 'cardiomyopathy': 258, 'carpal tunnel': 259, 'cat bite': 260, 'cat bite infection': 261, 'cellulitis': 262, 'cellulitis (skin infection on my leg)': 263, 'cervical spondylosis': 264, 'cesarean': 265, 'chest infection': 266, 'chest infection (viral)': 267, 'chest infections': 268, 'cholesterol': 269, 'cholesterol problems': 270, 'cholesterol slightly elevated': 271, 'cholesterol/high blood pressure': 272, 'chronic \"atypical\" depression': 273, 'chronic back pain': 274, 'chronic back pain/depression/anxiety': 275, 'chronic bronch/asthma': 276, 'chronic cold sores': 277, 'chronic cough and allergies': 278, 'chronic cystitis': 279, 'chronic daily headache': 280, 'chronic depression': 281, 'chronic fatigue syndrome': 282, 'chronic headaches': 283, 'chronic heartburn': 284, 'chronic hives': 285, 'chronic insomnia': 286, 'chronic leg pain due to trauma & surgeries': 287, 'chronic musculoskeletal pain (neck/back)': 288, 'chronic neck/back pain, chronic tension headache': 289, 'chronic nerve pain from back surgery': 290, 'chronic pain': 291, 'chronic pain (neck and migraines)': 292, 'chronic pain due to neck injury and surgeries': 293, 'chronic pain from degenerative lumbar disc disease': 294, 'chronic pain, fibromyalgia': 295, 'chronic pelvic pain': 296, 'chronic rhinitis and allergies': 297, 'chronic severe insomnia': 298, 'chronic sinus congestion': 299, 'chronic sinus infection (long term), post nasal dr': 300, 'chronic sinus infections': 301, 'chronic sinusitis': 302, 'chronic tension headache': 303, 'chronic tension headaches/ mild depression': 304, 'chronic urinary and yeast infections due to drynes': 305, 'clamydia': 306, 'clearing skin': 307, 'clinical depression': 308, 'cluster headache': 309, 'cocaine dependency': 310, 'cognitive enhancement': 311, 'cold': 312, 'cold / flu': 313, 'cold chills and hot flashes': 314, 'cold sore': 315, 'cold sore below lip': 316, 'cold sore on side of face': 317, 'cold sore, fever blister': 318, 'cold sore/fever blister (herpes-simplex)': 319, 'cold sores': 320, 'cold sores/ herpes i': 321, 'cold sores/fever blisters': 322, 'coldsores': 323, 'colestrol': 324, 'colitis': 325, 'collar bone injury': 326, 'complete hysterectomy': 327, 'congestion': 328, 'congestive heart failure and edema': 329, 'conjunctivitis': 330, 'conjunctivitus': 331, \"conn's syndrome\": 332, 'constant coughing due to mucous': 333, 'contact dermatitis': 334, 'contraception': 335, 'contraceptive': 336, 'controceptive; help with pmsd': 337, 'copd': 338, 'cornea transplant rejection': 339, 'cosmetic longer lashes': 340, 'cough': 341, 'cramps, birth control': 342, 'crashing fatigue, hot flashes, mood swings': 343, \"crohn's\": 344, \"crohn's disease\": 345, \"crohn's with fistula in ano\": 346, \"crohn's/colitis\": 347, 'crohns disease': 348, 'crohns disease  & colitis': 349, 'crohns disease, psoriatic arthritis': 350, 'cure for acne': 351, 'cut on knee from fall,waited too long to get stmus': 352, 'cyclic vomiting syndrome': 353, 'cystic acne': 354, 'cystic acne on chin and jaw': 355, 'cystic fibrosis': 356, 'daily migraines 2-3 times a day': 357, 'dandruff': 358, 'dark skin spots on face': 359, 'dark spots': 360, 'daytime drowsiness': 361, 'deep gum pockets': 362, 'degenerative disc disorder, spinal stenosis l1-s1': 363, 'delayed gastric emptying-nausea': 364, \"dementia (altzheimer's diesease)\": 365, 'dental surgery': 366, 'depresion anxiety obsessive behavior': 367, 'depressio': 368, 'depression': 369, 'depression & anxiety': 370, 'depression (atypical)': 371, 'depression and anxiety': 372, 'depression and anxiety.': 373, 'depression and generalized anxiety': 374, 'depression anxiety': 375, 'depression not resolved with antidepressant drugs': 376, 'depression pain': 377, 'depression with anxiety': 378, 'depression, a.d.d., mood instability': 379, 'depression, anxiety': 380, 'depression, anxiety & pain': 381, 'depression, anxiety, ocd, nausea': 382, 'depression, axiety': 383, 'depression, fatigue': 384, 'depression, irritability': 385, 'depression, lack of motivation': 386, 'depression, ptsd': 387, 'depression, ptsd fatigue': 388, 'depression, social anxiety disorder': 389, 'depression, tension headache': 390, 'depression-anxiety': 391, 'depression/ anxiety': 392, 'depression/ cfs': 393, 'depression/add': 394, 'depression/anxiety': 395, 'depression/anxiety/ptsd': 396, 'depression/difficulty sleeping': 397, 'depression/dysthymia': 398, 'depression/insomnia': 399, 'depression/panic disorder': 400, 'depression/post-partum': 401, 'depression/stress': 402, 'depression;': 403, 'depression; intrusive suicidal impulses': 404, 'depresson/anxiety': 405, 'dermatitis': 406, 'dermatitis herpetiformis': 407, 'diabetes': 408, 'diabetes type 2': 409, 'diabetes type ii': 410, 'diabetese': 411, 'diabetic': 412, 'diareaha': 413, 'diarrhea': 414, 'diarrhoea/ibs': 415, 'diet': 416, 'difficulty getting/holding erection': 417, 'difficulty sleeping': 418, 'difficulty sleeping because of nervous system prob': 419, 'discoloration': 420, 'dizzyness,, vertigo, nausea,': 421, 'dog bite prophylaxis': 422, 'drug addiction': 423, 'dry eye': 424, 'dry eyes': 425, 'dust allergy': 426, 'dvt': 427, 'dyshidrosis': 428, 'dysthymia': 429, 'dystimia': 430, 'ear and throat infection': 431, 'ear infection': 432, 'ear infection and upper respiratory infection': 433, 'earache': 434, 'earache/sinusitis': 435, 'early onset osteoporosis': 436, 'eczema': 437, 'eczyma': 438, 'ed': 439, 'elarge pores blackheads around nose & cheeks': 440, 'elevated cholesterol': 441, 'elevated glucose': 442, 'endometrial hyperplasia': 443, 'endometriosis': 444, 'environmental allergies': 445, 'eosinophilic esophagitis': 446, 'eostrogen-positive breast cancer': 447, 'epididymitus': 448, 'epidimytis': 449, 'epilepsy': 450, 'epilpsy': 451, 'erectile disfunction': 452, 'erectile dysfunction': 453, 'erictile dysfunction': 454, 'eryhema nodosum': 455, 'esophogeal strictures': 456, 'essential tremor': 457, 'estrogen replacement therapy': 458, 'eustachian tube pain': 459, 'excess stomach acid.': 460, 'excessive coughing, later diagnosed as pneumonia': 461, 'excessive fatigue': 462, 'extra heartbeat': 463, 'extreme hot flashes': 464, 'extremely dry skin': 465, 'extremely severe anxiety': 466, 'extrinsic aging': 467, 'exzema of the face': 468, 'eye infection': 469, 'eyelash growth': 470, 'eyelash loss': 471, 'ezcema': 472, 'facial': 473, 'facial acne': 474, 'facial hair': 475, 'facial herpes simplex': 476, 'facial hyperpigmentation': 477, 'facial lines': 478, 'facial skin': 479, 'familial hypercholesterolaemia': 480, 'family flu outbreak': 481, 'fatigue': 482, 'fatigue / malaise due to infections': 483, 'fatigue from rheumatoid arthiritis': 484, 'fatigue not being able to get up in am': 485, 'fatique, depression': 486, 'female problems, trying to get pregnant, ovulation': 487, 'fertility': 488, 'fever': 489, 'fever and tonsilitis': 490, 'fever blisters': 491, 'fibromyalgia': 492, 'fibromyalgia and depression': 493, 'fibromyalgia and myofacial pain': 494, 'fibromyalgia pain': 495, 'fibromyalgia, failed back syndrome': 496, 'fibromylgia': 497, 'fine lines': 498, 'fine lines around eyes and mouth. between the brow': 499, 'fine lines/wrinkles': 500, 'fine wrinkles': 501, 'fingernail fungus': 502, 'flat warts': 503, 'flu': 504, 'flu symptoms': 505, 'fluid retention increased bp': 506, 'focus': 507, 'folliculitis of scalp': 508, 'foot surgery': 509, 'for  back pain': 510, 'for allergic condition and there after begning of': 511, 'for epilepsy': 512, 'for tramflap surgery,implant removal': 513, 'for treating wrinkles': 514, 'for wrinkle (line) reduction': 515, 'forehead frown lines': 516, 'frequent and urgent  urination': 517, 'frequent urination': 518, 'frozen shoulder': 519, 'fun': 520, 'functional dyspepsia': 521, 'fungal growth on feet': 522, 'fungal toenails': 523, 'fungus': 524, 'fungus on big toes': 525, 'gad - generalised anxiety disorder.': 526, 'gastric esophageal reflux': 527, 'gastritis': 528, 'gastritis, nausea, fullness': 529, 'gastro esophageal reflux disease (gerd)': 530, 'gastrointestinal disorder': 531, 'general depression/perimenopause': 532, 'generalized anxiety disorder': 533, 'genital herpes': 534, 'genitofemoral nerve damage': 535, 'gerd': 536, 'gerd (gastroesophogeal reflux disease)': 537, 'gerd - gastroesophageal reflux disease': 538, 'gerd with laryngeal spasms': 539, 'gerd/acid reflux': 540, \"gerd/barret's esophogus\": 541, 'gi irritation': 542, 'giant cell arteritis': 543, 'giardiasis': 544, 'glacoma': 545, 'glandular fever': 546, 'glaucoma': 547, 'glucoma': 548, 'gonorrhea': 549, 'gout': 550, 'grand mal seizures': 551, \"grave's disease\": 552, 'grow lashes': 553, 'hair growth': 554, 'hair less': 555, 'hair lose': 556, 'hair loss': 557, 'hair loss, receding hairline': 558, 'hair regrowth': 559, 'hair thinning': 560, 'hairloss': 561, 'hand dermatitis': 562, 'hard time getting asleep': 563, \"hashimoto's hypothyroidism\": 564, 'hashimotos disease': 565, 'have not stop bleeding': 566, 'hay fever': 567, 'hay fever type allergy reactions': 568, 'hay fever, allergies': 569, 'hbp': 570, 'head injuries': 571, 'head injury': 572, 'head injury/concussion': 573, 'headache': 574, 'headaches': 575, 'headaches, menstrual aches/cramps, fever': 576, 'heart': 577, 'heart burn': 578, 'heart condition': 579, 'heart murmur/dental procedures': 580, 'heart palpitations': 581, 'heart problem': 582, 'heartburn': 583, 'heartburn/gerd': 584, 'heavy menses': 585, 'heavy period': 586, 'heavy periods': 587, 'heavy periods, thickened endometrium': 588, 'heavy periods/cramping': 589, 'hemorrhagic cystitis': 590, 'hepatitis b': 591, 'hepatitis c': 592, 'heratburn': 593, 'herniated disk in my lower back': 594, 'herpes': 595, 'herpes cold sores around mouth and nose': 596, 'herpes zoster': 597, 'hgh deficiency & hiv': 598, 'hiatal hernia and ileocecal valve syndrome': 599, 'hiatus hernia, indigestion, acid reflux': 600, 'high blood preasure': 601, 'high blood pressue --  diuretic': 602, 'high blood pressure': 603, 'high blood pressure after prewgnancy': 604, 'high blood pressure and': 605, 'high blood presure': 606, 'high bloodpressure': 607, 'high bp': 608, 'high c': 609, 'high chloresteral': 610, 'high cholesteol': 611, 'high cholesteral': 612, 'high cholesterol': 613, 'high cholesterol and triglycerides (21.1!)': 614, 'high cholestoral': 615, 'high cholestral': 616, 'high cholestrol': 617, 'high colesteral': 618, 'high colesterol': 619, 'high colesterol level': 620, 'high colestrol': 621, 'high colorestoral': 622, 'high interoccular pressure': 623, 'high intraocular pressure (glaucoma)': 624, 'high ldl': 625, 'high level anxiety/depression': 626, 'high level of prolactin': 627, 'high lpa': 628, 'hip flexor & back pain': 629, 'hiv': 630, 'hives': 631, 'hives, itching, swelling due to allergies': 632, 'hormonal acne': 633, 'hormonal imbalances and pregnancy prevention': 634, 'hormone and for prevention of osteoporosis': 635, 'hormone replacement': 636, 'hormone replacement therapy': 637, 'hot flash sleep problems': 638, 'hot flashes': 639, 'hot flashes / night sweats': 640, 'hot flashes, depression': 641, 'hot flashes, headaches, fatigue, dry vagina': 642, 'hot flashes, unable to sleep': 643, 'hot flashes/ over all feel better': 644, 'hrt': 645, 'hrt (hormone replacement therapy)': 646, 'hrt hysterectomy': 647, 'hsv 2': 648, 'htn': 649, 'hyper pigmentation, wrinkles': 650, 'hyperactive nerves and chronic small seizures': 651, 'hypercholesteremia': 652, 'hypercholesterolemia': 653, 'hypercholesterolemia w/ low ldl': 654, 'hyperhidrosis': 655, 'hyperlipidemia': 656, 'hyperpigmatation': 657, 'hyperpigmentation': 658, 'hyperpigmentation all over face': 659, 'hyperpigmentation, light breakouts, fine lines': 660, 'hyperpigmentation, photoaging, mild hormonal acne': 661, 'hypertension': 662, 'hypertension (high blood pressure)': 663, 'hypertension/high blood pressure': 664, 'hypertention': 665, 'hyperthyroidism': 666, 'hypothroidism': 667, 'hypothroidism after radioactive iodine': 668, 'hypothryoid-related dry skin': 669, 'hypothryroid': 670, 'hypothyriod': 671, \"hypothyriodism--hashimoto's thyroiditis\": 672, 'hypothyroid': 673, \"hypothyroid - hashimoto's disease\": 674, 'hypothyroid deficiency': 675, 'hypothyroid problem': 676, 'hypothyroidism': 677, 'hypothyroidism after thyroidectomy': 678, 'hypothyroidsm': 679, 'hypthyroidism': 680, 'hypthyroidsim': 681, 'hysterectomy': 682, 'hysterectomy/cessation of menses': 683, 'hysterectomy/menopause': 684, 'i got my toothpulled': 685, 'i kept getting pregnant. no more stairs.... please': 686, 'i took seasonique just  to prevent pregnancy': 687, 'i was in a risk group - frontline pharmacist': 688, 'ibs': 689, 'ibs, panic attacks, depression': 690, 'ibs/anxiety': 691, 'illiotibital tibital syndrom': 692, 'impetigo': 693, 'improvement of skin appearance, very very mild acn': 694, 'improvement of skin appearance/health': 695, 'inability to fall asleep': 696, 'inability to fall asleep easily': 697, 'inattention  and disorganization': 698, 'incontinence': 699, 'increase dopmaine levels': 700, 'increase follicle production prior to iui': 701, 'indigestion': 702, 'indoor allergies': 703, 'infected site of oreal surgery': 704, 'infected throat and lung': 705, 'infection': 706, 'infection from grazing an ankle on coral': 707, 'infection in mandible': 708, 'infertility': 709, 'inflamation at the femoral nerve': 710, 'inflamation resulting from damage to knee during s': 711, 'inflamed neck muscles': 712, 'inflammation of throat during bacteria bronchitis': 713, 'inflammatory arthritis': 714, 'ingrown toenails': 715, 'initially, acne; later, anti-wrinkle': 716, 'inner ear infection': 717, 'insomia': 718, 'insomina': 719, 'insommnia': 720, 'insomnia': 721, 'insomnia - early awakening': 722, 'insomnia and anxiety': 723, 'insomnia due to peri-menopause': 724, 'insomnia, and arthrtis': 725, 'insomnia, anxiety': 726, 'insomnia, bipolar': 727, 'insomnia, chronic pain': 728, 'insomnia, headaches': 729, 'insomnia, migraines': 730, 'insomnia, night sweats, hot flashes': 731, 'insomnia/difficulty sleeping': 732, 'insulin dependent diabetes mellitus': 733, 'interstitial cystitis': 734, 'irregular cycles': 735, 'irregular menses': 736, 'irregularity/no babies!': 737, 'irritability,anxiety': 738, 'irritable bowel syndrom': 739, 'irritable bowel syndrome': 740, 'irritated and sore throat,nose,eyes and sneezing.': 741, 'itching': 742, 'itching/psosiasis': 743, 'itchy and irritated skin': 744, 'itchy, red, irritated skin': 745, 'jaw abscess': 746, 'jaw/tooth pain': 747, 'joint pain': 748, 'joint/muscular issues - fibro': 749, 'juvenile idiopathic arthritis': 750, 'juvenile rheumatoid arthritis': 751, 'kidney infection': 752, 'kidney pain, difficult urination': 753, 'kidney stones': 754, 'klebsiella pneumonia infection': 755, 'knee pain': 756, 'knee pain/inflamation': 757, 'laryngopharyngeal reflux': 758, 'ldl cholesterol': 759, 'leg blood clot, dvt': 760, 'lingering infection - ear, sinus, throat': 761, 'longer eyelashes': 762, 'loose weight': 763, 'lose weight': 764, 'loss of bone density': 765, 'loss of bone density in spine': 766, 'loss of bone mass': 767, 'low back pain due to car accident': 768, 'low back pain, radiating to left leg': 769, 'low back pain/herniated disk/sciatic pain': 770, 'low energy': 771, 'low energy and depression': 772, 'low thyroid': 773, 'low thyroid levels': 774, 'low thyroid production': 775, 'low under active thyroid': 776, 'lower back pain': 777, 'lower back pain and migraine': 778, 'lower respiratory tract infection': 779, 'lupus': 780, 'lupus-like systemic autoimmune condition': 781, 'm to f transformation': 782, 'maigrains': 783, 'major chronic depressive disorder': 784, 'major clinical depression': 785, 'major depression': 786, 'major depression/anxiety': 787, 'major depressive disorder': 788, 'major depressive disorder/ anxiety': 789, 'major sinus infection': 790, 'malaria': 791, 'malaria prevention': 792, 'male andropause': 793, 'male pattern baldness': 794, 'male pattern bladness': 795, 'male pattern hair loss': 796, 'management of congestive heart failure': 797, 'mania': 798, 'manic depression': 799, 'mastitis': 800, 'melasma': 801, 'melasma, unevean skin tone, ocasionally pimples': 802, 'memopause': 803, 'memory': 804, 'menapause': 805, 'menopausal': 806, 'menopausal symptoms': 807, 'menopausal symptoms - hot flashes, sleep disturban': 808, 'menopausal symptoms, especially night sweats': 809, 'menopause': 810, 'menopause - hrt': 811, 'menopause for 2 years, first hormone pill taken': 812, 'menopause problems': 813, 'menopause symptoms': 814, 'menopause symptoms such as hot flashes,sleeplessne': 815, 'menopause, memory loss, night sweats, low libido': 816, 'menopause/hysterectomy': 817, 'menstrual cramping': 818, 'menstrual cramps': 819, 'menstrual cramps/heavey bleeding': 820, 'menstrual migraines': 821, 'metabolic disorder': 822, 'metabolic syndrome x': 823, 'metastasized ovarian cancer/chemotherapy': 824, 'microprolactinoma (benign pituitary tumour)': 825, 'migaine/tension headches': 826, 'migrain': 827, 'migraine': 828, 'migraine + birth control': 829, 'migraine headache': 830, 'migraine headaches': 831, 'migraine in assoc /w upper resp infection': 832, 'migraine prevention': 833, 'migraine relief': 834, 'migraines': 835, 'migraines-hormonal': 836, 'migraines/upper back pain': 837, 'migranes': 838, 'mild acne': 839, 'mild acne, white heads': 840, 'mild arthritis in knees': 841, 'mild bursitis in left hip.': 842, 'mild depression': 843, 'mild depression and anxiety': 844, 'mild hypothyroidism': 845, 'mild local skin infection': 846, 'mild sedative': 847, 'minor acne': 848, 'minor insomnia': 849, 'mitral  valve prolapse': 850, 'moderately severe acne': 851, 'molar extraction': 852, 'mood': 853, 'mood stabilization': 854, 'mood stabilizer taken w/ prozac': 855, 'mood stablizer for bipoler disorder': 856, 'mood swings': 857, 'mood swings, felt by- polar': 858, 'morning sickness/nausea': 859, 'mrsa': 860, 'mrsa abcess': 861, 'mrsa skin infection': 862, 'mucus in stool': 863, 'mulitple sclerosis': 864, 'multiple sclerosis': 865, 'muscle pain and stiffness due to fibromyalgia': 866, 'muscle pain/spasms - legs': 867, 'muscle relaxant - spinal disorder': 868, 'muscle spasm': 869, 'muscle spasms': 870, 'muscle spasms (upper back/neck)': 871, 'muscle stiffness': 872, 'muscle strain': 873, 'muscular pain - arm': 874, 'muslce inflammation': 875, 'mycoplasma bronchitis': 876, 'mytral valve prolapse': 877, 'narcalepsy': 878, 'narcolepsy': 879, 'narcolepsy, fibromyalgia': 880, 'narcolepsy, sleep apnea, bipolar disorder': 881, 'narcolepsy/cataplexy': 882, 'nasal allergies': 883, 'nasal allergy': 884, 'nasal polyps': 885, 'nausea': 886, 'nausea after eating': 887, 'nausea/morning sicness/ongoing vomitting': 888, 'nausea/vomiting': 889, 'neck & arm muscle spasms': 890, 'neck and back pain': 891, 'neck and back pain/  whiplash': 892, 'neck and hip pain': 893, 'neck pain': 894, 'neck pain from car accident whiplash': 895, 'neck/shoulder spasms': 896, 'nerve and muscle pain': 897, 'nerve condition, burning in legs and aching feet': 898, 'nerve damage': 899, 'nerve damage from brachial plexitus': 900, 'nerve damage, 1 nerve near mouth during surgery': 901, 'nerve damage/ acdf surgery': 902, 'nerve disorder': 903, 'nerve pain, fibromyalgia': 904, 'nerve painn': 905, 'nerves': 906, 'nerves, depression': 907, 'neural pain': 908, 'neuropathic pain': 909, 'neuropathic pain aand fibromyalgia': 910, 'neuropathic pain from botched surgery': 911, 'neuropathy / anklosing spondylytis': 912, 'neuropathy back pain': 913, 'nicotine addiction': 914, 'no more period': 915, 'nocturnal myoclonus (like restless leg syndrome)': 916, 'none': 917, 'not sleeping': 918, 'nummular eczema': 919, 'o increase length and fullness of eyelashes': 920, 'obesity': 921, 'obesity and diabetes': 922, 'obsessional thoughts ocd': 923, 'obsessive compulsive disorder': 924, 'obsessive compulsive disorder, panic disorder, gad': 925, 'ocd': 926, 'ocd, bipolor disease': 927, 'opiate addiction': 928, 'opiate dependence': 929, 'opiate/heroin addiction': 930, 'opiod addiction': 931, 'opioid addiction': 932, 'oral infection': 933, 'oral infection and swelling': 934, 'oral surgery': 935, 'originally brain lesions then lower cholesterol': 936, 'originally depression, later for chronic pain': 937, 'originally sleep apnea': 938, 'osteo arthritis': 939, 'osteoarthritis': 940, 'osteochondral injury of the talus, left ankle': 941, 'osteopenia': 942, 'osteopenia and osteoporosis': 943, 'osteoporosis': 944, 'osteoporosis/bone stength': 945, 'osteoporsis': 946, 'osteroporosis': 947, 'ostheoporosis prevention': 948, 'ovarian cyst': 949, 'ovarian cysts/sciatic nerve': 950, 'over weight': 951, 'overactive bladder': 952, 'overeating, weight gain': 953, 'overweight': 954, 'overweight, self confidence': 955, 'pain': 956, 'pain - chronic panceatitis': 957, 'pain after dental surgery': 958, 'pain after foot surgery': 959, 'pain after surgery': 960, 'pain and depression': 961, 'pain control': 962, 'pain from broken arm': 963, 'pain from pinched nerve': 964, 'pain in my legs': 965, 'pain management': 966, 'pain relief  from an infected cat bite wound': 967, 'pain relief (glenohumeral instability correction)': 968, 'pain relief - toothache': 969, 'pain relief after surgery': 970, 'pain relief for arthritis and sleep aid': 971, 'pain, muscle strain': 972, 'pain/arthritis': 973, 'pain/headaches': 974, 'painkiller after surgery': 975, 'palpitations': 976, 'pancreatitis': 977, 'panic attack and anxiety': 978, 'panic attacks': 979, 'panic attacks and depression': 980, 'panic attacks, depression': 981, 'panic attacks/feeling low': 982, 'panic disorder': 983, 'panic disorder, agoraphobia': 984, 'papillary, follicular, tall-cell variant cancer': 985, \"parkinson's\": 986, 'pcos': 987, 'peanut allergy': 988, 'pentasa': 989, 'peptic ulcer': 990, 'perennial rhinitis': 991, 'perenniel rhinitis': 992, 'perepheral neuropathy': 993, 'performance anxiety / social anxiety': 994, 'peri-menopausal syptoms': 995, 'periferal neuropathy': 996, 'perimenopause': 997, 'perimenopause symptoms': 998, 'period cramps': 999, 'periodontal disease': 1000, 'periodontal surgery': 1001, 'perioral dermamtitis': 1002, 'perioral dermatitis': 1003, 'peripheral neuropathy': 1004, 'persistant migraines': 1005, 'persistent chest infection symptoms': 1006, 'phneumonia': 1007, 'photoaging': 1008, 'pigmentatation': 1009, 'pigmentation': 1010, 'pinched nerve from bulging disc & disseminated pai': 1011, 'pinched nerves': 1012, 'pink eye': 1013, 'plantar faciatis': 1014, 'plugged up nose related to seasonal allergies': 1015, 'pmd': 1016, 'pms': 1017, 'pneumonia': 1018, 'pneumonia with associated cough': 1019, 'pocs, elevated testosterone, hirsutism': 1020, 'poison ivy': 1021, 'polinoidal cyst': 1022, 'pollen, dust, mold and tree allergies': 1023, 'polycystic ovarian syndrome': 1024, 'polycystic ovary syndrome': 1025, 'polymyalgia': 1026, 'poor sleep quality': 1027, 'poor sleep with frequent wakefulness': 1028, 'possible add': 1029, 'possible arthritis': 1030, 'possible lymphoma/kidney pain': 1031, 'possible osteoporosis': 1032, 'possible pertusis': 1033, 'possible ulcer and acid reflux': 1034, 'possible uti': 1035, 'post -surgery': 1036, 'post breast cancer': 1037, 'post cosmetic surgery complications': 1038, 'post hemorrhoidectomy': 1039, 'post herpatic neuralga': 1040, 'post menapause symptoms': 1041, 'post menopausal /hysterectomy': 1042, 'post menopause': 1043, 'post operative antibiotic': 1044, 'post partum anxiety/ depression': 1045, 'post shoulder surgery pain': 1046, 'post surgery': 1047, 'post surgery antibiotic': 1048, 'post surgery extreme pain': 1049, 'post surgery stomach pain': 1050, 'post surgical pain': 1051, 'post traumatic stress syndrom': 1052, 'post-menopausal osteopenia': 1053, 'post-surgical pain': 1054, 'postmenopausal vaginal atrophy': 1055, 'pre cancer cells': 1056, 'pre-barrett (errosion of the esophagus)': 1057, 'pre-surgery': 1058, 'pregnancy prevention': 1059, 'pregnancy prevention, cycle regulation': 1060, 'prevent aging, improve skin': 1061, 'prevent menstral migranes': 1062, 'prevent osteoporose': 1063, 'prevent pregnancy': 1064, 'preventing malaria': 1065, 'preventing osteoporosis': 1066, 'preventing pregnancy': 1067, 'prevention of pcp pneumonia while on chemo': 1068, 'prevention of pregnancy/lighter periods': 1069, 'primary dysmenorrhea': 1070, 'primary hypersomnia': 1071, 'problem staying asleep': 1072, 'problems with my prostate': 1073, 'progesterone balance': 1074, 'prolactinoma': 1075, 'prophylaxis after oral surgery': 1076, 'prostate procedure': 1077, 'prostatitis': 1078, 'prostatitis (chronically)': 1079, 'psoriasis': 1080, 'psoriatic arthritis': 1081, 'psychosis': 1082, 'psychosomatic disorder': 1083, 'psychotic out nof control patient': 1084, 'psychotic symptoms': 1085, 'ptsd': 1086, 'ptsd, anxiety, depprssion, obsessive remembering': 1087, 'ptsd, bi-polar, anxiety': 1088, 'ptsd/insomnia': 1089, 'puncture wound': 1090, 'qit smoking': 1091, 'quit smoking': 1092, 'quitting smoking': 1093, 'r.a.': 1094, 'r/a': 1095, 'ra': 1096, 'ra, sj�gren syndrome': 1097, 'radical hysterectomy': 1098, 'rapid cycling bi polar': 1099, 'rare kidney infection': 1100, 'rash': 1101, 'rash on neck that spread to face': 1102, 'rashes': 1103, \"raynaud's disease\": 1104, 'razor bumps': 1105, 'receding hairline': 1106, 'recovery from a brainstem stroke': 1107, 'recurrent colds': 1108, 'recurrent depression': 1109, 'recurring cold sores': 1110, 'red spot on the cheek': 1111, 'redness': 1112, 'redness from rosacea flushing': 1113, 'reduce cholesterol': 1114, 'reflux': 1115, 'reflux, gastritis': 1116, 'refractory depression': 1117, 'regulate periods': 1118, 'relapsing remitting ms, possible neuro sarcoidosis': 1119, 'relapsing/remitting multiple sclerosis': 1120, 'repair and prevent wrinkles': 1121, 'replacement of femoral vein in leg': 1122, 'replacement thearpy': 1123, 'respiratory infection': 1124, 'restless leg sydrome': 1125, 'restless leg syndrome': 1126, 'restless legs': 1127, 'restless legs syndrome': 1128, 'restless sleep': 1129, 'restlessness': 1130, 'reverse the insomnia medication': 1131, 'rhematory arthritis': 1132, 'rheumatiod arthritis': 1133, 'rheumatoi arthritis': 1134, 'rheumatoid arthritis': 1135, 'rheumatoid arthritis joint pain, fibromyalgia': 1136, 'rhinitis': 1137, 'rhuematoid arthritis': 1138, 'rhumitoid arthritis': 1139, 'rhytids': 1140, 'rib pain and muscle inflammation': 1141, 'right temporal lobe epilepsy': 1142, 'ringworm/pityriasis': 1143, 'rls': 1144, 'rosacea': 1145, 'rosacea/ acne': 1146, 'roseasa': 1147, 'rosecea': 1148, 'rosecea on the face': 1149, 'rotator cuff tear': 1150, 'running nose': 1151, 'runny nose/ allergies': 1152, 's/p thyroidectomy': 1153, 'sadd': 1154, 'scar revision': 1155, 'scar revision surgery': 1156, 'schizo-affective disorder': 1157, 'schizoaffective disorder': 1158, 'schizophrenia': 1159, 'sciatica': 1160, 'sciatica and low back pain': 1161, 'sciatica pain/bulging discs': 1162, 'scoliosis': 1163, 'seasonal allergies': 1164, 'seasonal allergy': 1165, 'sedative/hypnotic - to induce sleep': 1166, 'seizure disorder': 1167, 'seizure, hbp, cholesterol': 1168, 'seizure-1st and only at age 41': 1169, 'seizure/migraine': 1170, 'seizures': 1171, 'seizures,migraines,fibro.': 1172, 'serious acne': 1173, 'serious food poisoning, uti': 1174, 'serotonin imbalance, mood swings': 1175, 'sever back pain,': 1176, 'sever depression': 1177, 'sever muscle spasms lower back': 1178, 'severe acne': 1179, 'severe allergies': 1180, 'severe and chronic back pain': 1181, 'severe anxiety': 1182, 'severe chronic pain': 1183, 'severe cold sores': 1184, 'severe depression': 1185, 'severe dry eyes': 1186, 'severe headache': 1187, 'severe headaches': 1188, 'severe heartburn': 1189, 'severe hives angiodema': 1190, 'severe hot flashes and night sweats': 1191, 'severe indigestion diagnosed as possible ulcer': 1192, 'severe insomnia': 1193, 'severe knee pain': 1194, 'severe low back pain that went down right leg.': 1195, 'severe menstrual cramps': 1196, 'severe migraine': 1197, 'severe neck pain lasting 8-9 mons': 1198, 'severe non-allergic bronchitis and cough': 1199, 'severe pain': 1200, 'severe pain in right hip from suspected tear in ca': 1201, 'severe performance anxiety': 1202, 'severe peridontal disease': 1203, 'severe poison ivy all over face': 1204, 'severe recurrent sinus infections': 1205, 'severe sinus infection': 1206, 'severe sinus infection and double ear infections': 1207, 'severe stomach pains, dizziness': 1208, 'severe ulcerative colitis': 1209, 'severe upper respitory tract infection': 1210, 'sggression, hyperactivity': 1211, 'shift disorder': 1212, 'shift work insomnia': 1213, 'shift work sleep disorder': 1214, 'shingles': 1215, 'shingles pain': 1216, 'shooting nerve-type pain in legs/fibromyalgia': 1217, 'short term memory loss': 1218, 'shortness of breath, itching all over': 1219, 'shoulder pain': 1220, 'simple laceration': 1221, 'simple partial seizure': 1222, 'sinus allergies/infection': 1223, 'sinus allergy': 1224, 'sinus congestion / allergies': 1225, 'sinus inection': 1226, 'sinus infection': 1227, 'sinus infection with smelly nasal discharge': 1228, 'sinus infection, bronchitis': 1229, 'sinus infections': 1230, 'sinus infections/constant mucus & post nasal drip': 1231, 'sinus polyps': 1232, 'sinus problems': 1233, 'sinus/ lung infection from a cold': 1234, 'sinusitis': 1235, 'sinusitis,quinsy': 1236, 'sinusitus/ double ear infection': 1237, 'situational anxiety': 1238, 'situational atypical depression': 1239, \"sjogren's syndrome\": 1240, 'skin': 1241, 'skin acne': 1242, 'skin agind, sun damage': 1243, 'skin aging': 1244, 'skin aging/sun damage': 1245, 'skin allergy': 1246, 'skin cancer': 1247, 'skin cancers': 1248, 'skin correction': 1249, 'skin damage': 1250, 'skin exema': 1251, 'skin infection': 1252, 'skin probles - acne, balckheads': 1253, 'skin rash': 1254, 'skin spots': 1255, 'skin warts on elbow': 1256, 'skin wound/infection': 1257, 'sle (lupus), rheumatoid arthritis': 1258, 'sleep': 1259, 'sleep aid': 1260, 'sleep deprivation': 1261, 'sleep disorder': 1262, 'sleep disorder/anxiety': 1263, 'sleep disruption due to hotflashes at night': 1264, 'sleep problem': 1265, 'sleep problems': 1266, 'sleep walking/talking': 1267, 'sleepiness': 1268, 'sleeping aid': 1269, 'sleeping disorder': 1270, 'sleeping problems': 1271, 'sleeplessness': 1272, 'sleeplessness and restless mind at night': 1273, 'slight loss of calcium in hip area': 1274, 'smoking': 1275, 'smoking ceasation': 1276, 'smoking cessation': 1277, 'social anxiety': 1278, 'sore heel and arthritis': 1279, 'sore lower back': 1280, 'sore throat': 1281, 'sore throat ear infections': 1282, 'sore throat/dryness': 1283, 'sparse eyelashes': 1284, 'sparse thin eyelashes': 1285, 'spastic bladder': 1286, 'spinal injury': 1287, 'spinal nerve compression pain': 1288, 'sprained ankle': 1289, 'staph infection': 1290, 'staphf infection': 1291, 'std': 1292, 'std clamydia': 1293, 'stomach pain': 1294, 'stomach ulcer': 1295, 'stomach ulcers': 1296, 'stomach/digestive disorder': 1297, 'stop smoking': 1298, 'stop smoking aid': 1299, 'stopping smoking': 1300, 'strep throat': 1301, 'stress': 1302, 'stress, feeling overwhelmed': 1303, 'stress-related anxiety': 1304, 'stressfull live change': 1305, 'strokes': 1306, 'subungal hematoma': 1307, 'sudden sensorineural hearing loss': 1308, 'suicidal feelings': 1309, 'sun damage': 1310, 'sun damage & fine lines': 1311, 'sun damage removal': 1312, 'sun damage to face': 1313, 'sun damage to skin': 1314, 'superfacial basal cell carcinoma': 1315, 'supra ventricular tachycardia': 1316, 'surgery recovery': 1317, 'surgical menopause': 1318, 'swine flu': 1319, 'swine flu like illness in a pandemic': 1320, 'swollen knee': 1321, 'swollen passages from allergies': 1322, 'symptoms of menopause': 1323, 'systemic fungus': 1324, 'tachacarrdia  rapid heartbeat': 1325, 'tachycardia': 1326, 'teeth extractions': 1327, 'temporary anxiety': 1328, 'tempromandibular joint dysfunction (tmj)': 1329, 'tendinatis': 1330, 'tennis elbow': 1331, 'tension and anxiety': 1332, 'tension headaches': 1333, 'tension in jaw and bruxism (grinding of teeth)': 1334, 'thinning hair': 1335, 'throat infection': 1336, 'thyroid': 1337, 'thyroid disease': 1338, 'thyroid goiter': 1339, 'thyroid removal': 1340, 'thyroid/total thyroidectomy due to cancer': 1341, 'tia type seizures, stress': 1342, \"tia's - anxiety\": 1343, 'tinea barbae': 1344, 'tinnitus': 1345, 'tiredness': 1346, 'to achieve a smoother skin surface': 1347, 'to help me sleep after having a rapid heartbeat ep': 1348, 'to help quit smoking cigarettes': 1349, 'to help sleep': 1350, 'to lose 30 pounds': 1351, 'to quit smoking': 1352, 'to reduce/eliminate wrinkling': 1353, 'to relax muscles': 1354, 'to stop smoking': 1355, 'toe nail fungus': 1356, 'toenail fungus': 1357, 'tonic clonic seizures': 1358, 'tonsilitis': 1359, 'tonsillitis/strep throat': 1360, 'tooth abscess': 1361, 'tooth infection': 1362, 'tooth pain, root canal procedure': 1363, 'total hist': 1364, 'total hysterctomy': 1365, 'total hysterectomy': 1366, 'tourette syndrome': 1367, 'traumatic brain injury': 1368, 'treatment of acne': 1369, 'trigeminal neuralgia plus spinal stenosis etc': 1370, 'trochanteric bursitis': 1371, 'trouble sleeping': 1372, 'trouble sleeping at night, tired during day': 1373, 'tsh level was low no clinical symtoms': 1374, 'tuberculosis': 1375, 'type 2 diabetes': 1376, 'type ii diabetes mellitus': 1377, 'u/i': 1378, 'ulcer': 1379, 'ulcerative cholitis': 1380, 'ulcerative colitis': 1381, 'ulcers that caused throwing up': 1382, 'unable to sleep because of pain': 1383, 'under active thyroid': 1384, 'underactive thyroid': 1385, 'undiagnosed': 1386, 'unrestful sleep, narcolepsy?': 1387, 'unusual periods': 1388, 'upper back / left shoulder and neck pain': 1389, 'upper respiratory infection on vacation': 1390, 'urge incontinence and bladder spasm': 1391, 'urgency to urinate': 1392, 'urinary tract infection': 1393, 'urinary tract infrection': 1394, 'uterine fibroids/heavy bleeding': 1395, 'uti': 1396, 'uti prevention': 1397, 'uveitis, inflmmatory arhtiritis in hands': 1398, 'vaginal bacteria': 1399, 'vaginal dryness': 1400, 'vaginal dryness and urinary tract infections': 1401, 'vaginal dryness, menopausal symptoms': 1402, 'vaginal dryness, night sweats': 1403, 'vaginal dryness/bladder inflamation-irritations': 1404, 'vaginal eczema': 1405, 'vaginal yeast infection': 1406, 'vertigo': 1407, 'very high cholesterol and family history of heart': 1408, 'viral bronchitis': 1409, 'wakefulness -- difficulty falling back asleep': 1410, 'water in ear': 1411, 'weight': 1412, 'weight gain': 1413, 'weight loss': 1414, 'weightloss': 1415, 'white spots on facial skin': 1416, 'whiteheads': 1417, 'wilson diseaes': 1418, 'wrinkles': 1419, 'wrinkles around eyes': 1420, 'wrinkles, furrows': 1421, 'year round allergies': 1422, 'yeast': 1423, 'yeast diaper rash': 1424, 'yeast infection': 1425}, 'Gender': {'F': 0, 'M': 1, 'O': 2}, 'Race': {'Asian': 0, 'Australoid': 1, 'Black': 2, 'White': 3}, 'Age_bin': {'Aduld': 0, 'Child': 1, 'Middle Age Adult': 2, 'Senior Adult': 3, 'Teen': 4}}\n"
     ]
    }
   ],
   "source": [
    "mapping_dict ={} \n",
    "for col in df_cat: \n",
    "    df[col] = label_encoder.fit_transform(df[col]) \n",
    "  \n",
    "    le_name_mapping = dict(zip(label_encoder.classes_, \n",
    "                        label_encoder.transform(label_encoder.classes_))) \n",
    "  \n",
    "    mapping_dict[col]= le_name_mapping \n",
    "print(mapping_dict)"
   ]
  },
  {
   "cell_type": "code",
   "execution_count": 55,
   "metadata": {},
   "outputs": [],
   "source": [
    "side_effects={'sideEffects':{'No Side Effects': 0,'Mild Side Effects': 1,'Moderate Side Effects': 2,\n",
    "                             'Severe Side Effects': 3,'Extremely Severe Side Effects': 4}}"
   ]
  },
  {
   "cell_type": "code",
   "execution_count": 56,
   "metadata": {},
   "outputs": [],
   "source": [
    "df=df.replace(side_effects)"
   ]
  },
  {
   "cell_type": "code",
   "execution_count": 57,
   "metadata": {},
   "outputs": [
    {
     "data": {
      "text/html": [
       "<div>\n",
       "<style scoped>\n",
       "    .dataframe tbody tr th:only-of-type {\n",
       "        vertical-align: middle;\n",
       "    }\n",
       "\n",
       "    .dataframe tbody tr th {\n",
       "        vertical-align: top;\n",
       "    }\n",
       "\n",
       "    .dataframe thead th {\n",
       "        text-align: right;\n",
       "    }\n",
       "</style>\n",
       "<table border=\"1\" class=\"dataframe\">\n",
       "  <thead>\n",
       "    <tr style=\"text-align: right;\">\n",
       "      <th></th>\n",
       "      <th>urlDrugName</th>\n",
       "      <th>rating</th>\n",
       "      <th>effectiveness</th>\n",
       "      <th>condition</th>\n",
       "      <th>sideEffects</th>\n",
       "      <th>Gender</th>\n",
       "      <th>Age</th>\n",
       "      <th>Race</th>\n",
       "      <th>Age_bin</th>\n",
       "      <th>C_Age_min</th>\n",
       "      <th>...</th>\n",
       "      <th>F_rating_mean</th>\n",
       "      <th>F_rating_median</th>\n",
       "      <th>F_urlDrugName_size</th>\n",
       "      <th>F_urlDrugName_nunique</th>\n",
       "      <th>F_effectiveness_nunique</th>\n",
       "      <th>F_condition_nunique</th>\n",
       "      <th>F_Gender_nunique</th>\n",
       "      <th>F_Race_nunique</th>\n",
       "      <th>PatientID_en</th>\n",
       "      <th>Name_en</th>\n",
       "    </tr>\n",
       "  </thead>\n",
       "  <tbody>\n",
       "    <tr>\n",
       "      <th>0</th>\n",
       "      <td>166</td>\n",
       "      <td>4</td>\n",
       "      <td>1</td>\n",
       "      <td>797</td>\n",
       "      <td>1</td>\n",
       "      <td>0</td>\n",
       "      <td>61</td>\n",
       "      <td>1</td>\n",
       "      <td>3</td>\n",
       "      <td>10</td>\n",
       "      <td>...</td>\n",
       "      <td>5.454545</td>\n",
       "      <td>6.0</td>\n",
       "      <td>11</td>\n",
       "      <td>1</td>\n",
       "      <td>2</td>\n",
       "      <td>2</td>\n",
       "      <td>1</td>\n",
       "      <td>1</td>\n",
       "      <td>0.000003</td>\n",
       "      <td>0.000040</td>\n",
       "    </tr>\n",
       "    <tr>\n",
       "      <th>1</th>\n",
       "      <td>319</td>\n",
       "      <td>1</td>\n",
       "      <td>1</td>\n",
       "      <td>224</td>\n",
       "      <td>3</td>\n",
       "      <td>1</td>\n",
       "      <td>77</td>\n",
       "      <td>2</td>\n",
       "      <td>3</td>\n",
       "      <td>10</td>\n",
       "      <td>...</td>\n",
       "      <td>7.593220</td>\n",
       "      <td>9.0</td>\n",
       "      <td>118</td>\n",
       "      <td>1</td>\n",
       "      <td>3</td>\n",
       "      <td>10</td>\n",
       "      <td>1</td>\n",
       "      <td>1</td>\n",
       "      <td>0.000003</td>\n",
       "      <td>0.000015</td>\n",
       "    </tr>\n",
       "    <tr>\n",
       "      <th>2</th>\n",
       "      <td>345</td>\n",
       "      <td>10</td>\n",
       "      <td>1</td>\n",
       "      <td>819</td>\n",
       "      <td>0</td>\n",
       "      <td>1</td>\n",
       "      <td>22</td>\n",
       "      <td>3</td>\n",
       "      <td>0</td>\n",
       "      <td>10</td>\n",
       "      <td>...</td>\n",
       "      <td>10.000000</td>\n",
       "      <td>10.0</td>\n",
       "      <td>7</td>\n",
       "      <td>1</td>\n",
       "      <td>1</td>\n",
       "      <td>2</td>\n",
       "      <td>1</td>\n",
       "      <td>1</td>\n",
       "      <td>0.000003</td>\n",
       "      <td>0.000003</td>\n",
       "    </tr>\n",
       "    <tr>\n",
       "      <th>3</th>\n",
       "      <td>353</td>\n",
       "      <td>3</td>\n",
       "      <td>3</td>\n",
       "      <td>11</td>\n",
       "      <td>1</td>\n",
       "      <td>0</td>\n",
       "      <td>22</td>\n",
       "      <td>3</td>\n",
       "      <td>0</td>\n",
       "      <td>10</td>\n",
       "      <td>...</td>\n",
       "      <td>6.843137</td>\n",
       "      <td>8.0</td>\n",
       "      <td>51</td>\n",
       "      <td>1</td>\n",
       "      <td>4</td>\n",
       "      <td>9</td>\n",
       "      <td>1</td>\n",
       "      <td>1</td>\n",
       "      <td>0.000003</td>\n",
       "      <td>0.000008</td>\n",
       "    </tr>\n",
       "    <tr>\n",
       "      <th>4</th>\n",
       "      <td>259</td>\n",
       "      <td>2</td>\n",
       "      <td>3</td>\n",
       "      <td>492</td>\n",
       "      <td>3</td>\n",
       "      <td>1</td>\n",
       "      <td>73</td>\n",
       "      <td>1</td>\n",
       "      <td>3</td>\n",
       "      <td>10</td>\n",
       "      <td>...</td>\n",
       "      <td>5.291391</td>\n",
       "      <td>6.0</td>\n",
       "      <td>151</td>\n",
       "      <td>1</td>\n",
       "      <td>5</td>\n",
       "      <td>12</td>\n",
       "      <td>1</td>\n",
       "      <td>1</td>\n",
       "      <td>0.000003</td>\n",
       "      <td>0.000005</td>\n",
       "    </tr>\n",
       "    <tr>\n",
       "      <th>...</th>\n",
       "      <td>...</td>\n",
       "      <td>...</td>\n",
       "      <td>...</td>\n",
       "      <td>...</td>\n",
       "      <td>...</td>\n",
       "      <td>...</td>\n",
       "      <td>...</td>\n",
       "      <td>...</td>\n",
       "      <td>...</td>\n",
       "      <td>...</td>\n",
       "      <td>...</td>\n",
       "      <td>...</td>\n",
       "      <td>...</td>\n",
       "      <td>...</td>\n",
       "      <td>...</td>\n",
       "      <td>...</td>\n",
       "      <td>...</td>\n",
       "      <td>...</td>\n",
       "      <td>...</td>\n",
       "      <td>...</td>\n",
       "      <td>...</td>\n",
       "    </tr>\n",
       "    <tr>\n",
       "      <th>399867</th>\n",
       "      <td>325</td>\n",
       "      <td>8</td>\n",
       "      <td>1</td>\n",
       "      <td>290</td>\n",
       "      <td>2</td>\n",
       "      <td>0</td>\n",
       "      <td>96</td>\n",
       "      <td>1</td>\n",
       "      <td>3</td>\n",
       "      <td>10</td>\n",
       "      <td>...</td>\n",
       "      <td>7.457627</td>\n",
       "      <td>8.0</td>\n",
       "      <td>59</td>\n",
       "      <td>1</td>\n",
       "      <td>3</td>\n",
       "      <td>8</td>\n",
       "      <td>1</td>\n",
       "      <td>1</td>\n",
       "      <td>0.000005</td>\n",
       "      <td>0.000025</td>\n",
       "    </tr>\n",
       "    <tr>\n",
       "      <th>399868</th>\n",
       "      <td>403</td>\n",
       "      <td>3</td>\n",
       "      <td>3</td>\n",
       "      <td>156</td>\n",
       "      <td>0</td>\n",
       "      <td>0</td>\n",
       "      <td>92</td>\n",
       "      <td>1</td>\n",
       "      <td>3</td>\n",
       "      <td>10</td>\n",
       "      <td>...</td>\n",
       "      <td>5.947368</td>\n",
       "      <td>8.0</td>\n",
       "      <td>114</td>\n",
       "      <td>1</td>\n",
       "      <td>5</td>\n",
       "      <td>12</td>\n",
       "      <td>1</td>\n",
       "      <td>1</td>\n",
       "      <td>0.000003</td>\n",
       "      <td>0.000023</td>\n",
       "    </tr>\n",
       "    <tr>\n",
       "      <th>399869</th>\n",
       "      <td>255</td>\n",
       "      <td>8</td>\n",
       "      <td>0</td>\n",
       "      <td>1285</td>\n",
       "      <td>0</td>\n",
       "      <td>2</td>\n",
       "      <td>10</td>\n",
       "      <td>0</td>\n",
       "      <td>1</td>\n",
       "      <td>10</td>\n",
       "      <td>...</td>\n",
       "      <td>8.000000</td>\n",
       "      <td>8.0</td>\n",
       "      <td>1</td>\n",
       "      <td>1</td>\n",
       "      <td>1</td>\n",
       "      <td>1</td>\n",
       "      <td>1</td>\n",
       "      <td>1</td>\n",
       "      <td>0.000003</td>\n",
       "      <td>0.000010</td>\n",
       "    </tr>\n",
       "    <tr>\n",
       "      <th>399870</th>\n",
       "      <td>428</td>\n",
       "      <td>7</td>\n",
       "      <td>4</td>\n",
       "      <td>428</td>\n",
       "      <td>0</td>\n",
       "      <td>0</td>\n",
       "      <td>20</td>\n",
       "      <td>0</td>\n",
       "      <td>4</td>\n",
       "      <td>10</td>\n",
       "      <td>...</td>\n",
       "      <td>7.000000</td>\n",
       "      <td>7.0</td>\n",
       "      <td>6</td>\n",
       "      <td>1</td>\n",
       "      <td>1</td>\n",
       "      <td>1</td>\n",
       "      <td>1</td>\n",
       "      <td>1</td>\n",
       "      <td>0.000003</td>\n",
       "      <td>0.000013</td>\n",
       "    </tr>\n",
       "    <tr>\n",
       "      <th>399871</th>\n",
       "      <td>51</td>\n",
       "      <td>8</td>\n",
       "      <td>1</td>\n",
       "      <td>97</td>\n",
       "      <td>2</td>\n",
       "      <td>1</td>\n",
       "      <td>84</td>\n",
       "      <td>3</td>\n",
       "      <td>3</td>\n",
       "      <td>10</td>\n",
       "      <td>...</td>\n",
       "      <td>7.594595</td>\n",
       "      <td>8.0</td>\n",
       "      <td>37</td>\n",
       "      <td>1</td>\n",
       "      <td>3</td>\n",
       "      <td>4</td>\n",
       "      <td>1</td>\n",
       "      <td>1</td>\n",
       "      <td>0.000005</td>\n",
       "      <td>0.000028</td>\n",
       "    </tr>\n",
       "  </tbody>\n",
       "</table>\n",
       "<p>399872 rows × 48 columns</p>\n",
       "</div>"
      ],
      "text/plain": [
       "        urlDrugName  rating  effectiveness  condition  sideEffects  Gender  \\\n",
       "0               166       4              1        797            1       0   \n",
       "1               319       1              1        224            3       1   \n",
       "2               345      10              1        819            0       1   \n",
       "3               353       3              3         11            1       0   \n",
       "4               259       2              3        492            3       1   \n",
       "...             ...     ...            ...        ...          ...     ...   \n",
       "399867          325       8              1        290            2       0   \n",
       "399868          403       3              3        156            0       0   \n",
       "399869          255       8              0       1285            0       2   \n",
       "399870          428       7              4        428            0       0   \n",
       "399871           51       8              1         97            2       1   \n",
       "\n",
       "        Age  Race  Age_bin  C_Age_min  ...  F_rating_mean  F_rating_median  \\\n",
       "0        61     1        3         10  ...       5.454545              6.0   \n",
       "1        77     2        3         10  ...       7.593220              9.0   \n",
       "2        22     3        0         10  ...      10.000000             10.0   \n",
       "3        22     3        0         10  ...       6.843137              8.0   \n",
       "4        73     1        3         10  ...       5.291391              6.0   \n",
       "...     ...   ...      ...        ...  ...            ...              ...   \n",
       "399867   96     1        3         10  ...       7.457627              8.0   \n",
       "399868   92     1        3         10  ...       5.947368              8.0   \n",
       "399869   10     0        1         10  ...       8.000000              8.0   \n",
       "399870   20     0        4         10  ...       7.000000              7.0   \n",
       "399871   84     3        3         10  ...       7.594595              8.0   \n",
       "\n",
       "        F_urlDrugName_size  F_urlDrugName_nunique  F_effectiveness_nunique  \\\n",
       "0                       11                      1                        2   \n",
       "1                      118                      1                        3   \n",
       "2                        7                      1                        1   \n",
       "3                       51                      1                        4   \n",
       "4                      151                      1                        5   \n",
       "...                    ...                    ...                      ...   \n",
       "399867                  59                      1                        3   \n",
       "399868                 114                      1                        5   \n",
       "399869                   1                      1                        1   \n",
       "399870                   6                      1                        1   \n",
       "399871                  37                      1                        3   \n",
       "\n",
       "        F_condition_nunique  F_Gender_nunique  F_Race_nunique  PatientID_en  \\\n",
       "0                         2                 1               1      0.000003   \n",
       "1                        10                 1               1      0.000003   \n",
       "2                         2                 1               1      0.000003   \n",
       "3                         9                 1               1      0.000003   \n",
       "4                        12                 1               1      0.000003   \n",
       "...                     ...               ...             ...           ...   \n",
       "399867                    8                 1               1      0.000005   \n",
       "399868                   12                 1               1      0.000003   \n",
       "399869                    1                 1               1      0.000003   \n",
       "399870                    1                 1               1      0.000003   \n",
       "399871                    4                 1               1      0.000005   \n",
       "\n",
       "         Name_en  \n",
       "0       0.000040  \n",
       "1       0.000015  \n",
       "2       0.000003  \n",
       "3       0.000008  \n",
       "4       0.000005  \n",
       "...          ...  \n",
       "399867  0.000025  \n",
       "399868  0.000023  \n",
       "399869  0.000010  \n",
       "399870  0.000013  \n",
       "399871  0.000028  \n",
       "\n",
       "[399872 rows x 48 columns]"
      ]
     },
     "execution_count": 57,
     "metadata": {},
     "output_type": "execute_result"
    }
   ],
   "source": [
    "df\n"
   ]
  },
  {
   "cell_type": "code",
   "execution_count": 58,
   "metadata": {},
   "outputs": [],
   "source": [
    "X=df.drop(['sideEffects'],axis=1)\n",
    "y=df['sideEffects']"
   ]
  },
  {
   "cell_type": "code",
   "execution_count": 59,
   "metadata": {},
   "outputs": [],
   "source": [
    "from sklearn.preprocessing import StandardScaler"
   ]
  },
  {
   "cell_type": "code",
   "execution_count": 60,
   "metadata": {},
   "outputs": [
    {
     "data": {
      "text/plain": [
       "array([[-0.70293908, -1.02444836, -0.22921074, ...,  0.        ,\n",
       "        -0.66660062,  0.54964175],\n",
       "       [ 0.33618956, -2.04621882, -0.22921074, ...,  0.        ,\n",
       "        -0.66660062, -0.1225305 ],\n",
       "       [ 0.51277351,  1.01909257, -0.22921074, ...,  0.        ,\n",
       "        -0.66660062, -0.45861663],\n",
       "       ...,\n",
       "       [-0.09847863,  0.33791226, -0.98946686, ...,  0.        ,\n",
       "        -0.66660062, -0.25696495],\n",
       "       [ 1.07648382, -0.0026779 ,  2.05155763, ...,  0.        ,\n",
       "        -0.66660062, -0.18974773],\n",
       "       [-1.48398348,  0.33791226, -0.22921074, ...,  0.        ,\n",
       "         0.8374899 ,  0.21355562]])"
      ]
     },
     "execution_count": 60,
     "metadata": {},
     "output_type": "execute_result"
    }
   ],
   "source": [
    "scaler=StandardScaler()\n",
    "scaler.fit_transform(X)"
   ]
  },
  {
   "cell_type": "code",
   "execution_count": 61,
   "metadata": {},
   "outputs": [],
   "source": [
    "from sklearn.linear_model import LogisticRegression\n",
    "from sklearn.tree import DecisionTreeClassifier\n",
    "from sklearn.ensemble import RandomForestClassifier,GradientBoostingClassifier\n",
    "from xgboost import XGBClassifier\n",
    "from sklearn.model_selection import ShuffleSplit\n",
    "from sklearn.model_selection import cross_val_score\n",
    "from sklearn.metrics import confusion_matrix,accuracy_score,precision_score,recall_score,f1_score,roc_auc_score"
   ]
  },
  {
   "cell_type": "code",
   "execution_count": 62,
   "metadata": {},
   "outputs": [],
   "source": [
    "from sklearn.model_selection import train_test_split\n",
    "X_train,X_test,y_train,y_test = train_test_split(X,y,random_state=42,test_size=0.3)"
   ]
  },
  {
   "cell_type": "code",
   "execution_count": 63,
   "metadata": {},
   "outputs": [
    {
     "name": "stderr",
     "output_type": "stream",
     "text": [
      "C:\\Users\\ASUS\\anaconda3\\lib\\site-packages\\sklearn\\linear_model\\_logistic.py:762: ConvergenceWarning: lbfgs failed to converge (status=1):\n",
      "STOP: TOTAL NO. of ITERATIONS REACHED LIMIT.\n",
      "\n",
      "Increase the number of iterations (max_iter) or scale the data as shown in:\n",
      "    https://scikit-learn.org/stable/modules/preprocessing.html\n",
      "Please also refer to the documentation for alternative solver options:\n",
      "    https://scikit-learn.org/stable/modules/linear_model.html#logistic-regression\n",
      "  n_iter_i = _check_optimize_result(\n"
     ]
    }
   ],
   "source": [
    "log=LogisticRegression()\n",
    "log.fit(X_train,y_train)\n",
    "y_pred=log.predict(X_test)"
   ]
  },
  {
   "cell_type": "code",
   "execution_count": 64,
   "metadata": {},
   "outputs": [
    {
     "name": "stderr",
     "output_type": "stream",
     "text": [
      "C:\\Users\\ASUS\\anaconda3\\lib\\site-packages\\sklearn\\metrics\\_classification.py:1221: UndefinedMetricWarning: Precision is ill-defined and being set to 0.0 in labels with no predicted samples. Use `zero_division` parameter to control this behavior.\n",
      "  _warn_prf(average, modifier, msg_start, len(result))\n"
     ]
    },
    {
     "name": "stdout",
     "output_type": "stream",
     "text": [
      "Accuracy score is: 0.3554125473066471\n",
      "Precesion score is: 0.24700693957926595\n",
      "recall_score is: 0.2555713858087809\n",
      "F1 score is: 0.2329027953758588\n",
      "ROC AUC score is: 0.6441334752255939\n"
     ]
    },
    {
     "data": {
      "text/plain": [
       "array([[17686, 15375,   584,  2141,     0],\n",
       "       [16007, 21006,   732,  1567,     0],\n",
       "       [ 8963, 11587,   986,  2280,     0],\n",
       "       [ 4032,  5970,  1268,  2958,     0],\n",
       "       [ 1672,  2324,   775,  2049,     0]], dtype=int64)"
      ]
     },
     "execution_count": 64,
     "metadata": {},
     "output_type": "execute_result"
    }
   ],
   "source": [
    "print('Accuracy score is:',accuracy_score(y_test,y_pred))\n",
    "print('Precesion score is:',precision_score(y_test,y_pred,average='macro'))\n",
    "print('recall_score is:',recall_score(y_test,y_pred,average='macro'))\n",
    "print('F1 score is:',f1_score(y_test,y_pred,average='macro'))\n",
    "print('ROC AUC score is:',roc_auc_score(y_test,log.predict_proba(X_test) ,multi_class='ovo'))\n",
    "confusion_matrix(y_test,y_pred)"
   ]
  },
  {
   "cell_type": "code",
   "execution_count": 65,
   "metadata": {},
   "outputs": [
    {
     "name": "stderr",
     "output_type": "stream",
     "text": [
      "C:\\Users\\ASUS\\anaconda3\\lib\\site-packages\\sklearn\\linear_model\\_logistic.py:762: ConvergenceWarning: lbfgs failed to converge (status=1):\n",
      "STOP: TOTAL NO. of ITERATIONS REACHED LIMIT.\n",
      "\n",
      "Increase the number of iterations (max_iter) or scale the data as shown in:\n",
      "    https://scikit-learn.org/stable/modules/preprocessing.html\n",
      "Please also refer to the documentation for alternative solver options:\n",
      "    https://scikit-learn.org/stable/modules/linear_model.html#logistic-regression\n",
      "  n_iter_i = _check_optimize_result(\n",
      "C:\\Users\\ASUS\\anaconda3\\lib\\site-packages\\sklearn\\linear_model\\_logistic.py:762: ConvergenceWarning: lbfgs failed to converge (status=1):\n",
      "STOP: TOTAL NO. of ITERATIONS REACHED LIMIT.\n",
      "\n",
      "Increase the number of iterations (max_iter) or scale the data as shown in:\n",
      "    https://scikit-learn.org/stable/modules/preprocessing.html\n",
      "Please also refer to the documentation for alternative solver options:\n",
      "    https://scikit-learn.org/stable/modules/linear_model.html#logistic-regression\n",
      "  n_iter_i = _check_optimize_result(\n",
      "C:\\Users\\ASUS\\anaconda3\\lib\\site-packages\\sklearn\\linear_model\\_logistic.py:762: ConvergenceWarning: lbfgs failed to converge (status=1):\n",
      "STOP: TOTAL NO. of ITERATIONS REACHED LIMIT.\n",
      "\n",
      "Increase the number of iterations (max_iter) or scale the data as shown in:\n",
      "    https://scikit-learn.org/stable/modules/preprocessing.html\n",
      "Please also refer to the documentation for alternative solver options:\n",
      "    https://scikit-learn.org/stable/modules/linear_model.html#logistic-regression\n",
      "  n_iter_i = _check_optimize_result(\n",
      "C:\\Users\\ASUS\\anaconda3\\lib\\site-packages\\sklearn\\linear_model\\_logistic.py:762: ConvergenceWarning: lbfgs failed to converge (status=1):\n",
      "STOP: TOTAL NO. of ITERATIONS REACHED LIMIT.\n",
      "\n",
      "Increase the number of iterations (max_iter) or scale the data as shown in:\n",
      "    https://scikit-learn.org/stable/modules/preprocessing.html\n",
      "Please also refer to the documentation for alternative solver options:\n",
      "    https://scikit-learn.org/stable/modules/linear_model.html#logistic-regression\n",
      "  n_iter_i = _check_optimize_result(\n",
      "C:\\Users\\ASUS\\anaconda3\\lib\\site-packages\\sklearn\\linear_model\\_logistic.py:762: ConvergenceWarning: lbfgs failed to converge (status=1):\n",
      "STOP: TOTAL NO. of ITERATIONS REACHED LIMIT.\n",
      "\n",
      "Increase the number of iterations (max_iter) or scale the data as shown in:\n",
      "    https://scikit-learn.org/stable/modules/preprocessing.html\n",
      "Please also refer to the documentation for alternative solver options:\n",
      "    https://scikit-learn.org/stable/modules/linear_model.html#logistic-regression\n",
      "  n_iter_i = _check_optimize_result(\n"
     ]
    },
    {
     "data": {
      "text/plain": [
       "0.3589823783695628"
      ]
     },
     "execution_count": 65,
     "metadata": {},
     "output_type": "execute_result"
    }
   ],
   "source": [
    "cv=cross_val_score(log,X,y,cv=5)\n",
    "cv\n",
    "cv.mean()"
   ]
  },
  {
   "cell_type": "code",
   "execution_count": 63,
   "metadata": {},
   "outputs": [],
   "source": [
    "from sklearn.model_selection import KFold,StratifiedKFold"
   ]
  },
  {
   "cell_type": "code",
   "execution_count": 67,
   "metadata": {},
   "outputs": [
    {
     "data": {
      "text/plain": [
       "0.23497249580708596"
      ]
     },
     "execution_count": 67,
     "metadata": {},
     "output_type": "execute_result"
    }
   ],
   "source": [
    "cv = KFold(random_state=42, shuffle=True)\n",
    "scores = cross_val_score(log, X, y, scoring='f1_macro', cv=cv, n_jobs=-1)\n",
    "scores.mean()"
   ]
  },
  {
   "cell_type": "code",
   "execution_count": 68,
   "metadata": {},
   "outputs": [
    {
     "data": {
      "text/plain": [
       "0.2357414895385545"
      ]
     },
     "execution_count": 68,
     "metadata": {},
     "output_type": "execute_result"
    }
   ],
   "source": [
    "cv=StratifiedKFold(random_state=42, shuffle=True)\n",
    "scores = cross_val_score(log, X, y, scoring='f1_macro', cv=cv, n_jobs=-1)\n",
    "scores.mean()"
   ]
  },
  {
   "cell_type": "code",
   "execution_count": 69,
   "metadata": {},
   "outputs": [],
   "source": [
    "dt=DecisionTreeClassifier()\n",
    "dt.fit(X_train,y_train)\n",
    "y_pred=dt.predict(X_test)"
   ]
  },
  {
   "cell_type": "code",
   "execution_count": 70,
   "metadata": {},
   "outputs": [
    {
     "name": "stdout",
     "output_type": "stream",
     "text": [
      "Accuracy score is: 0.9467914839699239\n",
      "Precesion score is: 0.9489254811839419\n",
      "recall_score is: 0.9483972282678899\n",
      "F1 score is: 0.9486594064696968\n",
      "ROC AUC score is: 0.9678705413510725\n"
     ]
    },
    {
     "data": {
      "text/plain": [
       "array([[34093,  1363,   214,    70,    46],\n",
       "       [ 1480, 36816,   777,   212,    27],\n",
       "       [  214,   750, 22657,   167,    28],\n",
       "       [   50,   233,   201, 13531,   213],\n",
       "       [   39,    39,    42,   218,  6482]], dtype=int64)"
      ]
     },
     "execution_count": 70,
     "metadata": {},
     "output_type": "execute_result"
    }
   ],
   "source": [
    "print('Accuracy score is:',accuracy_score(y_test,y_pred))\n",
    "print('Precesion score is:',precision_score(y_test,y_pred,average='macro'))\n",
    "print('recall_score is:',recall_score(y_test,y_pred,average='macro'))\n",
    "print('F1 score is:',f1_score(y_test,y_pred,average='macro'))\n",
    "print('ROC AUC score is:',roc_auc_score(y_test,dt.predict_proba(X_test) ,multi_class='ovo'))\n",
    "confusion_matrix(y_test,y_pred)"
   ]
  },
  {
   "cell_type": "code",
   "execution_count": 71,
   "metadata": {},
   "outputs": [
    {
     "data": {
      "text/plain": [
       "array([0.94740857, 0.94818381, 0.94849576, 0.94593243, 0.94702028])"
      ]
     },
     "execution_count": 71,
     "metadata": {},
     "output_type": "execute_result"
    }
   ],
   "source": [
    "cv=cross_val_score(dt,X,y,cv=5)\n",
    "cv"
   ]
  },
  {
   "cell_type": "code",
   "execution_count": 72,
   "metadata": {},
   "outputs": [
    {
     "data": {
      "text/plain": [
       "0.9494090416943333"
      ]
     },
     "execution_count": 72,
     "metadata": {},
     "output_type": "execute_result"
    }
   ],
   "source": [
    "cv = KFold(random_state=42, shuffle=True)\n",
    "scores = cross_val_score(dt, X, y, scoring='f1_macro', cv=cv, n_jobs=-1)\n",
    "scores.mean()"
   ]
  },
  {
   "cell_type": "code",
   "execution_count": 73,
   "metadata": {},
   "outputs": [
    {
     "data": {
      "text/plain": [
       "0.9493803823006901"
      ]
     },
     "execution_count": 73,
     "metadata": {},
     "output_type": "execute_result"
    }
   ],
   "source": [
    "cv=StratifiedKFold(random_state=42, shuffle=True)\n",
    "scores = cross_val_score(dt, X, y, scoring='f1_macro', cv=cv, n_jobs=-1)\n",
    "scores.mean()"
   ]
  },
  {
   "cell_type": "code",
   "execution_count": 64,
   "metadata": {},
   "outputs": [],
   "source": [
    "rfc=RandomForestClassifier()\n",
    "rfc.fit(X_train,y_train)\n",
    "y_pred=rfc.predict(X_test)"
   ]
  },
  {
   "cell_type": "code",
   "execution_count": 75,
   "metadata": {},
   "outputs": [
    {
     "name": "stdout",
     "output_type": "stream",
     "text": [
      "Accuracy score is: 0.948158583551458\n",
      "Precesion score is: 0.9511136365280871\n",
      "recall_score is: 0.9495600866142679\n",
      "F1 score is: 0.9503310832018466\n",
      "ROC AUC score is: 0.9970792395625372\n"
     ]
    },
    {
     "data": {
      "text/plain": [
       "array([[34097,  1376,   192,    73,    48],\n",
       "       [ 1395, 37040,   649,   201,    27],\n",
       "       [  192,   848, 22595,   155,    26],\n",
       "       [   63,   266,   217, 13493,   189],\n",
       "       [   34,    32,    25,   211,  6518]], dtype=int64)"
      ]
     },
     "execution_count": 75,
     "metadata": {},
     "output_type": "execute_result"
    }
   ],
   "source": [
    "print('Accuracy score is:',accuracy_score(y_test,y_pred))\n",
    "print('Precesion score is:',precision_score(y_test,y_pred,average='macro'))\n",
    "print('recall_score is:',recall_score(y_test,y_pred,average='macro'))\n",
    "print('F1 score is:',f1_score(y_test,y_pred,average='macro'))\n",
    "print('ROC AUC score is:',roc_auc_score(y_test,rfc.predict_proba(X_test) ,multi_class='ovo'))\n",
    "confusion_matrix(y_test,y_pred)"
   ]
  },
  {
   "cell_type": "code",
   "execution_count": 76,
   "metadata": {},
   "outputs": [
    {
     "data": {
      "text/plain": [
       "0.948310960737138"
      ]
     },
     "execution_count": 76,
     "metadata": {},
     "output_type": "execute_result"
    }
   ],
   "source": [
    "cv=cross_val_score(rfc,X,y,cv=5)\n",
    "cv\n",
    "cv.mean()"
   ]
  },
  {
   "cell_type": "code",
   "execution_count": 77,
   "metadata": {},
   "outputs": [
    {
     "data": {
      "text/plain": [
       "0.9503737207095577"
      ]
     },
     "execution_count": 77,
     "metadata": {},
     "output_type": "execute_result"
    }
   ],
   "source": [
    "cv = KFold(random_state=42, shuffle=True)\n",
    "scores = cross_val_score(rfc, X, y, scoring='f1_macro', cv=cv, n_jobs=-1)\n",
    "scores.mean()"
   ]
  },
  {
   "cell_type": "code",
   "execution_count": 78,
   "metadata": {},
   "outputs": [
    {
     "data": {
      "text/plain": [
       "0.9501595025454644"
      ]
     },
     "execution_count": 78,
     "metadata": {},
     "output_type": "execute_result"
    }
   ],
   "source": [
    "cv=StratifiedKFold(random_state=42, shuffle=True)\n",
    "scores = cross_val_score(rfc, X, y, scoring='f1_macro', cv=cv, n_jobs=-1)\n",
    "scores.mean()"
   ]
  },
  {
   "cell_type": "code",
   "execution_count": 79,
   "metadata": {},
   "outputs": [],
   "source": [
    "gb=GradientBoostingClassifier()\n",
    "gb.fit(X_train,y_train)\n",
    "y_pred=gb.predict(X_test)"
   ]
  },
  {
   "cell_type": "code",
   "execution_count": 80,
   "metadata": {},
   "outputs": [
    {
     "name": "stdout",
     "output_type": "stream",
     "text": [
      "Accuracy score is: 0.6507560727563728\n",
      "Precesion score is: 0.6602073377126778\n",
      "recall_score is: 0.6628484976259683\n",
      "F1 score is: 0.6586958835498625\n",
      "ROC AUC score is: 0.9024674365956292\n"
     ]
    },
    {
     "data": {
      "text/plain": [
       "array([[24361,  8128,  2161,   703,   433],\n",
       "       [ 7597, 27631,  3143,   789,   152],\n",
       "       [ 1438,  8051, 11760,  2055,   512],\n",
       "       [  398,  1548,  2443,  8671,  1168],\n",
       "       [    5,    92,   200,   880,  5643]], dtype=int64)"
      ]
     },
     "execution_count": 80,
     "metadata": {},
     "output_type": "execute_result"
    }
   ],
   "source": [
    "print('Accuracy score is:',accuracy_score(y_test,y_pred))\n",
    "print('Precesion score is:',precision_score(y_test,y_pred,average='macro'))\n",
    "print('recall_score is:',recall_score(y_test,y_pred,average='macro'))\n",
    "print('F1 score is:',f1_score(y_test,y_pred,average='macro'))\n",
    "print('ROC AUC score is:',roc_auc_score(y_test,gb.predict_proba(X_test) ,multi_class='ovo'))\n",
    "confusion_matrix(y_test,y_pred)"
   ]
  },
  {
   "cell_type": "code",
   "execution_count": 81,
   "metadata": {},
   "outputs": [],
   "source": [
    "#cv=cross_val_score(gb,X,y,cv=5)\n",
    "#cv"
   ]
  },
  {
   "cell_type": "code",
   "execution_count": 82,
   "metadata": {},
   "outputs": [
    {
     "data": {
      "text/plain": [
       "0.660016162183741"
      ]
     },
     "execution_count": 82,
     "metadata": {},
     "output_type": "execute_result"
    }
   ],
   "source": [
    "cv = KFold(random_state=42, shuffle=True,n_splits=5)\n",
    "scores = cross_val_score(gb, X, y, scoring='f1_macro', cv=cv, n_jobs=-1)\n",
    "scores.mean()"
   ]
  },
  {
   "cell_type": "code",
   "execution_count": 83,
   "metadata": {},
   "outputs": [
    {
     "data": {
      "text/plain": [
       "0.6566617557068414"
      ]
     },
     "execution_count": 83,
     "metadata": {},
     "output_type": "execute_result"
    }
   ],
   "source": [
    "cv=StratifiedKFold(random_state=42, shuffle=True)\n",
    "scores = cross_val_score(gb, X, y, scoring='f1_macro', cv=cv, n_jobs=-1)\n",
    "scores.mean()"
   ]
  },
  {
   "cell_type": "code",
   "execution_count": 84,
   "metadata": {},
   "outputs": [],
   "source": [
    "xgb=XGBClassifier()\n",
    "xgb.fit(X_train,y_train)\n",
    "y_pred=xgb.predict(X_test)"
   ]
  },
  {
   "cell_type": "code",
   "execution_count": 85,
   "metadata": {},
   "outputs": [
    {
     "name": "stdout",
     "output_type": "stream",
     "text": [
      "Accuracy score is: 0.9442406762141344\n",
      "Precesion score is: 0.9488780942792585\n",
      "recall_score is: 0.9483919068149591\n",
      "F1 score is: 0.9484090489976896\n",
      "ROC AUC score is: 0.9975355035184335\n"
     ]
    },
    {
     "data": {
      "text/plain": [
       "array([[33742,  1756,   131,    94,    63],\n",
       "       [ 1327, 37353,   430,   163,    39],\n",
       "       [  137,  1401, 22090,   166,    22],\n",
       "       [   19,   302,   233, 13414,   260],\n",
       "       [    4,    12,    12,   118,  6674]], dtype=int64)"
      ]
     },
     "execution_count": 85,
     "metadata": {},
     "output_type": "execute_result"
    }
   ],
   "source": [
    "print('Accuracy score is:',accuracy_score(y_test,y_pred))\n",
    "print('Precesion score is:',precision_score(y_test,y_pred,average='macro'))\n",
    "print('recall_score is:',recall_score(y_test,y_pred,average='macro'))\n",
    "print('F1 score is:',f1_score(y_test,y_pred,average='macro'))\n",
    "print('ROC AUC score is:',roc_auc_score(y_test,xgb.predict_proba(X_test) ,multi_class='ovo'))\n",
    "confusion_matrix(y_test,y_pred)"
   ]
  },
  {
   "cell_type": "code",
   "execution_count": 86,
   "metadata": {},
   "outputs": [
    {
     "data": {
      "text/plain": [
       "array([0.94612066, 0.94345733, 0.94085578, 0.94390677, 0.94419436])"
      ]
     },
     "execution_count": 86,
     "metadata": {},
     "output_type": "execute_result"
    }
   ],
   "source": [
    "cv=cross_val_score(xgb,X,y,cv=5)\n",
    "cv"
   ]
  },
  {
   "cell_type": "code",
   "execution_count": 87,
   "metadata": {},
   "outputs": [
    {
     "data": {
      "text/plain": [
       "0.9481653706223545"
      ]
     },
     "execution_count": 87,
     "metadata": {},
     "output_type": "execute_result"
    }
   ],
   "source": [
    "cv = KFold(random_state=42, shuffle=True)\n",
    "scores = cross_val_score(xgb, X, y, scoring='f1_macro', cv=cv, n_jobs=-1)\n",
    "scores.mean()"
   ]
  },
  {
   "cell_type": "code",
   "execution_count": 88,
   "metadata": {},
   "outputs": [
    {
     "data": {
      "text/plain": [
       "0.9481537983926046"
      ]
     },
     "execution_count": 88,
     "metadata": {},
     "output_type": "execute_result"
    }
   ],
   "source": [
    "cv=StratifiedKFold(random_state=42, shuffle=True)\n",
    "scores = cross_val_score(xgb, X, y, scoring='f1_macro', cv=cv, n_jobs=-1)\n",
    "scores.mean()"
   ]
  },
  {
   "cell_type": "code",
   "execution_count": 65,
   "metadata": {},
   "outputs": [
    {
     "name": "stderr",
     "output_type": "stream",
     "text": [
      "C:\\Users\\ASUS\\anaconda3\\lib\\site-packages\\tpot\\builtins\\__init__.py:36: UserWarning: Warning: optional dependency `torch` is not available. - skipping import of NN models.\n",
      "  warnings.warn(\"Warning: optional dependency `torch` is not available. - skipping import of NN models.\")\n"
     ]
    },
    {
     "data": {
      "application/vnd.jupyter.widget-view+json": {
       "model_id": "",
       "version_major": 2,
       "version_minor": 0
      },
      "text/plain": [
       "HBox(children=(FloatProgress(value=0.0, description='Optimization Progress', max=48.0, style=ProgressStyle(des…"
      ]
     },
     "metadata": {},
     "output_type": "display_data"
    },
    {
     "name": "stdout",
     "output_type": "stream",
     "text": [
      "\n",
      "Generation 1 - Current best internal CV score: 0.9495656434323938\n",
      "\n",
      "Generation 2 - Current best internal CV score: 0.9495656434323938\n",
      "\n",
      "Best pipeline: RandomForestClassifier(input_matrix, criterion=gini, max_depth=None, max_features=None, min_samples_leaf=16, min_samples_split=16, n_estimators=144)\n"
     ]
    },
    {
     "data": {
      "text/plain": [
       "TPOTClassifier(config_dict={'sklearn.ensemble.RandomForestClassifier': {'criterion': ['entropy',\n",
       "                                                                                      'gini'],\n",
       "                                                                        'max_depth': [10,\n",
       "                                                                                      64,\n",
       "                                                                                      118,\n",
       "                                                                                      173,\n",
       "                                                                                      227,\n",
       "                                                                                      282,\n",
       "                                                                                      336,\n",
       "                                                                                      391,\n",
       "                                                                                      445,\n",
       "                                                                                      500,\n",
       "                                                                                      None],\n",
       "                                                                        'max_features': ['auto',\n",
       "                                                                                         'sqrt',\n",
       "                                                                                         'log2',\n",
       "                                                                                         None],\n",
       "                                                                        'min_samples_leaf': [8,\n",
       "                                                                                             16],\n",
       "                                                                        'min_samples_split': [8,\n",
       "                                                                                              16],\n",
       "                                                                        'n_estimators': [100,\n",
       "                                                                                         144,\n",
       "                                                                                         188,\n",
       "                                                                                         233,\n",
       "                                                                                         277,\n",
       "                                                                                         322,\n",
       "                                                                                         366,\n",
       "                                                                                         411,\n",
       "                                                                                         455,\n",
       "                                                                                         500]}},\n",
       "               cv=2, early_stop=12, generations=2, offspring_size=12,\n",
       "               population_size=24, scoring='f1_macro', verbosity=2)"
      ]
     },
     "execution_count": 65,
     "metadata": {},
     "output_type": "execute_result"
    }
   ],
   "source": [
    "from tpot import TPOTClassifier\n",
    "\n",
    "parameters = {'criterion': ['entropy', 'gini'],\n",
    "               'max_depth': list(np.linspace(10, 1000, 10, dtype = int)) + [None],\n",
    "               'max_features': ['auto', 'sqrt','log2', None],\n",
    "               'min_samples_leaf': [10, 20],\n",
    "               'min_samples_split': [10, 20],\n",
    "               'n_estimators': list(np.linspace(100, 500, 10, dtype = int))}\n",
    "               \n",
    "tpot_classifier = TPOTClassifier(generations= 3, population_size= 24, offspring_size= 12,\n",
    "                                 verbosity= 2, early_stop= 12,\n",
    "                                 config_dict=\n",
    "                                 {'sklearn.ensemble.RandomForestClassifier': parameters},  \n",
    "                                 cv = 2, scoring = 'f1_macro')\n",
    "tpot_classifier.fit(X_train,y_train) "
   ]
  },
  {
   "cell_type": "code",
   "execution_count": 92,
   "metadata": {},
   "outputs": [
    {
     "data": {
      "image/png": "[encoded data removed]",
      "text/plain": [
       "<Figure size 432x288 with 1 Axes>"
      ]
     },
     "metadata": {
      "needs_background": "light"
     },
     "output_type": "display_data"
    }
   ],
   "source": [
    "from sklearn.metrics import roc_curve\n",
    "pred_prob = rfc.predict_proba(X_test)\n",
    "fpr = {}\n",
    "tpr = {}\n",
    "thresh ={}\n",
    "\n",
    "n_class = 5\n",
    "\n",
    "for i in range(n_class):    \n",
    "    fpr[i], tpr[i], thresh[i] = roc_curve(y_test, pred_prob[:,i], pos_label=i)\n",
    "    \n",
    "# plotting    \n",
    "plt.plot(fpr[0], tpr[0], linestyle='--',color='orange', label='Class 0 vs Rest')\n",
    "plt.plot(fpr[1], tpr[1], linestyle='--',color='green', label='Class 1 vs Rest')\n",
    "plt.plot(fpr[2], tpr[2], linestyle='--',color='blue', label='Class 2 vs Rest')\n",
    "plt.plot(fpr[3], tpr[3], linestyle='--',color='red', label='Class 3 vs Rest')\n",
    "plt.plot(fpr[4], tpr[4], linestyle='--',color='purple', label='Class 4 vs Rest')\n",
    "plt.title('Multiclass ROC curve')\n",
    "plt.xlabel('False Positive Rate')\n",
    "plt.ylabel('True Positive rate')\n",
    "plt.legend(loc='best')\n",
    "plt.savefig('Multiclass ROC',dpi=800);    "
   ]
  },
  {
   "cell_type": "code",
   "execution_count": null,
   "metadata": {},
   "outputs": [],
   "source": []
  }
 ],
 "metadata": {
  "kernelspec": {
   "display_name": "Python 3",
   "language": "python",
   "name": "python3"
  },
  "language_info": {
   "codemirror_mode": {
    "name": "ipython",
    "version": 3
   },
   "file_extension": ".py",
   "mimetype": "text/x-python",
   "name": "python",
   "nbconvert_exporter": "python",
   "pygments_lexer": "ipython3",
   "version": "3.8.3"
  }
 },
 "nbformat": 4,
 "nbformat_minor": 4
}
